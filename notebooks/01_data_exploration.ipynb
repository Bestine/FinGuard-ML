{
 "cells": [
  {
   "cell_type": "markdown",
   "id": "dbabe2d1-2bf5-43fa-a6a0-01090815b8cc",
   "metadata": {
    "panel-layout": {
     "height": 60.57500457763672,
     "visible": true,
     "width": 100
    }
   },
   "source": [
    "# Data Exploration"
   ]
  },
  {
   "cell_type": "markdown",
   "id": "da6fe379-58e1-4982-9866-a8a655a7501d",
   "metadata": {
    "panel-layout": {
     "height": 51.13750076293945,
     "visible": true,
     "width": 100
    }
   },
   "source": [
    "**Load the required libraries and datasets**"
   ]
  },
  {
   "cell_type": "code",
   "execution_count": 1,
   "id": "8b7eab8f-7fed-4625-b412-ad58480d54e1",
   "metadata": {
    "panel-layout": {
     "height": 0,
     "visible": true,
     "width": 100
    }
   },
   "outputs": [],
   "source": [
    "# Load the required libraries  \n",
    "import pandas as pd\n",
    "import numpy as np\n",
    "import matplotlib.pyplot as plt\n",
    "import seaborn as sns\n",
    "import warnings \n",
    "\n",
    "warnings.filterwarnings(\"ignore\")"
   ]
  },
  {
   "cell_type": "code",
   "execution_count": 2,
   "id": "60c113c2-46e8-48d6-be7c-0d6750008378",
   "metadata": {},
   "outputs": [],
   "source": [
    "# Load the data sets  \n",
    "anno_df = pd.read_csv('../data/anno_df.csv', \n",
    "                      usecols=[\"filename\",\"image_id\",\"id\",\"defect_class_id\",\"label\",\"xy\",\"x\",\"y\"])\n",
    "pred_df = pd.read_csv('../data/pred_df.csv', \n",
    "                     usecols=[\"image_id\",\"prediction_id\",\"confidence\",\"polygon_id\",\"prediction_class\",\"xy\"])"
   ]
  },
  {
   "cell_type": "markdown",
   "id": "dc7e3f49-2664-4152-9d8a-dd25edb0201b",
   "metadata": {
    "panel-layout": {
     "height": 77.875,
     "visible": true,
     "width": 100
    }
   },
   "source": [
    "## Explanatory Data Analysis \n",
    "### Data Inspection "
   ]
  },
  {
   "cell_type": "markdown",
   "id": "dc54addc-ba11-4a45-8fa3-01b9f9005755",
   "metadata": {
    "panel-layout": {
     "height": 51.13750076293945,
     "visible": true,
     "width": 100
    }
   },
   "source": [
    "**Manual Annoted images**"
   ]
  },
  {
   "cell_type": "code",
   "execution_count": 3,
   "id": "ed931bd1-921b-472b-a96f-5d4a9d4d9626",
   "metadata": {
    "panel-layout": {
     "height": 674,
     "visible": true,
     "width": 100
    }
   },
   "outputs": [
    {
     "name": "stdout",
     "output_type": "stream",
     "text": [
      "Manual Annotations (anno_df):\n"
     ]
    },
    {
     "data": {
      "text/html": [
       "<div>\n",
       "<style scoped>\n",
       "    .dataframe tbody tr th:only-of-type {\n",
       "        vertical-align: middle;\n",
       "    }\n",
       "\n",
       "    .dataframe tbody tr th {\n",
       "        vertical-align: top;\n",
       "    }\n",
       "\n",
       "    .dataframe thead th {\n",
       "        text-align: right;\n",
       "    }\n",
       "</style>\n",
       "<table border=\"1\" class=\"dataframe\">\n",
       "  <thead>\n",
       "    <tr style=\"text-align: right;\">\n",
       "      <th></th>\n",
       "      <th>filename</th>\n",
       "      <th>image_id</th>\n",
       "      <th>id</th>\n",
       "      <th>defect_class_id</th>\n",
       "      <th>label</th>\n",
       "      <th>xy</th>\n",
       "      <th>x</th>\n",
       "      <th>y</th>\n",
       "    </tr>\n",
       "  </thead>\n",
       "  <tbody>\n",
       "    <tr>\n",
       "      <th>0</th>\n",
       "      <td>1g_04.png</td>\n",
       "      <td>624</td>\n",
       "      <td>175683</td>\n",
       "      <td>7</td>\n",
       "      <td>Mononukleäre Zelle</td>\n",
       "      <td>1354,1377.48,1330.52,1389.22,1330.52,1412.699,...</td>\n",
       "      <td>[1354.0, 1330.52, 1330.52, 1350.087, 1357.913,...</td>\n",
       "      <td>[1377.48, 1389.22, 1412.699, 1424.439, 1420.52...</td>\n",
       "    </tr>\n",
       "    <tr>\n",
       "      <th>1</th>\n",
       "      <td>1g_04.png</td>\n",
       "      <td>624</td>\n",
       "      <td>175664</td>\n",
       "      <td>7</td>\n",
       "      <td>Mononukleäre Zelle</td>\n",
       "      <td>223.058,1804.029,199.578,1800.116,191.751,1815...</td>\n",
       "      <td>[223.058, 199.578, 191.751, 203.491, 223.058, ...</td>\n",
       "      <td>[1804.029, 1800.116, 1815.769, 1831.422, 1835....</td>\n",
       "    </tr>\n",
       "    <tr>\n",
       "      <th>2</th>\n",
       "      <td>1g_04.png</td>\n",
       "      <td>624</td>\n",
       "      <td>175634</td>\n",
       "      <td>7</td>\n",
       "      <td>Mononukleäre Zelle</td>\n",
       "      <td>1549.665,1005.717,1545.751,1013.543,1541.838,1...</td>\n",
       "      <td>[1549.665, 1545.751, 1541.838, 1541.838, 1557....</td>\n",
       "      <td>[1005.717, 1013.543, 1021.37, 1037.023, 1037.0...</td>\n",
       "    </tr>\n",
       "    <tr>\n",
       "      <th>3</th>\n",
       "      <td>1g_04.png</td>\n",
       "      <td>624</td>\n",
       "      <td>175654</td>\n",
       "      <td>7</td>\n",
       "      <td>Mononukleäre Zelle</td>\n",
       "      <td>661.347,1678.803,637.867,1667.064,614.387,1674...</td>\n",
       "      <td>[661.347, 637.867, 614.387, 622.214, 630.04, 6...</td>\n",
       "      <td>[1678.803, 1667.064, 1674.89, 1698.37, 1694.45...</td>\n",
       "    </tr>\n",
       "    <tr>\n",
       "      <th>4</th>\n",
       "      <td>1g_04.png</td>\n",
       "      <td>624</td>\n",
       "      <td>175633</td>\n",
       "      <td>7</td>\n",
       "      <td>Mononukleäre Zelle</td>\n",
       "      <td>1784.462,1897.948,1796.202,1886.208,1804.029,1...</td>\n",
       "      <td>[1784.462, 1796.202, 1804.029, 1780.549, 1772....</td>\n",
       "      <td>[1897.948, 1886.208, 1870.555, 1858.815, 1862....</td>\n",
       "    </tr>\n",
       "  </tbody>\n",
       "</table>\n",
       "</div>"
      ],
      "text/plain": [
       "    filename  image_id      id  defect_class_id               label  \\\n",
       "0  1g_04.png       624  175683                7  Mononukleäre Zelle   \n",
       "1  1g_04.png       624  175664                7  Mononukleäre Zelle   \n",
       "2  1g_04.png       624  175634                7  Mononukleäre Zelle   \n",
       "3  1g_04.png       624  175654                7  Mononukleäre Zelle   \n",
       "4  1g_04.png       624  175633                7  Mononukleäre Zelle   \n",
       "\n",
       "                                                  xy  \\\n",
       "0  1354,1377.48,1330.52,1389.22,1330.52,1412.699,...   \n",
       "1  223.058,1804.029,199.578,1800.116,191.751,1815...   \n",
       "2  1549.665,1005.717,1545.751,1013.543,1541.838,1...   \n",
       "3  661.347,1678.803,637.867,1667.064,614.387,1674...   \n",
       "4  1784.462,1897.948,1796.202,1886.208,1804.029,1...   \n",
       "\n",
       "                                                   x  \\\n",
       "0  [1354.0, 1330.52, 1330.52, 1350.087, 1357.913,...   \n",
       "1  [223.058, 199.578, 191.751, 203.491, 223.058, ...   \n",
       "2  [1549.665, 1545.751, 1541.838, 1541.838, 1557....   \n",
       "3  [661.347, 637.867, 614.387, 622.214, 630.04, 6...   \n",
       "4  [1784.462, 1796.202, 1804.029, 1780.549, 1772....   \n",
       "\n",
       "                                                   y  \n",
       "0  [1377.48, 1389.22, 1412.699, 1424.439, 1420.52...  \n",
       "1  [1804.029, 1800.116, 1815.769, 1831.422, 1835....  \n",
       "2  [1005.717, 1013.543, 1021.37, 1037.023, 1037.0...  \n",
       "3  [1678.803, 1667.064, 1674.89, 1698.37, 1694.45...  \n",
       "4  [1897.948, 1886.208, 1870.555, 1858.815, 1862....  "
      ]
     },
     "metadata": {},
     "output_type": "display_data"
    }
   ],
   "source": [
    "print(\"Manual Annotations (anno_df):\")\n",
    "display(anno_df.head())"
   ]
  },
  {
   "cell_type": "code",
   "execution_count": 4,
   "id": "c354a279-bdd9-4f4d-a842-d49588e7f3ea",
   "metadata": {
    "panel-layout": {
     "height": 248.39999389648438,
     "visible": true,
     "width": 100
    }
   },
   "outputs": [
    {
     "name": "stdout",
     "output_type": "stream",
     "text": [
      "<class 'pandas.core.frame.DataFrame'>\n",
      "RangeIndex: 3648 entries, 0 to 3647\n",
      "Data columns (total 8 columns):\n",
      " #   Column           Non-Null Count  Dtype \n",
      "---  ------           --------------  ----- \n",
      " 0   filename         3648 non-null   object\n",
      " 1   image_id         3648 non-null   int64 \n",
      " 2   id               3648 non-null   int64 \n",
      " 3   defect_class_id  3648 non-null   int64 \n",
      " 4   label            3648 non-null   object\n",
      " 5   xy               3648 non-null   object\n",
      " 6   x                3648 non-null   object\n",
      " 7   y                3648 non-null   object\n",
      "dtypes: int64(3), object(5)\n",
      "memory usage: 228.1+ KB\n",
      "None\n"
     ]
    },
    {
     "data": {
      "text/html": [
       "<div>\n",
       "<style scoped>\n",
       "    .dataframe tbody tr th:only-of-type {\n",
       "        vertical-align: middle;\n",
       "    }\n",
       "\n",
       "    .dataframe tbody tr th {\n",
       "        vertical-align: top;\n",
       "    }\n",
       "\n",
       "    .dataframe thead th {\n",
       "        text-align: right;\n",
       "    }\n",
       "</style>\n",
       "<table border=\"1\" class=\"dataframe\">\n",
       "  <thead>\n",
       "    <tr style=\"text-align: right;\">\n",
       "      <th></th>\n",
       "      <th>image_id</th>\n",
       "      <th>id</th>\n",
       "      <th>defect_class_id</th>\n",
       "    </tr>\n",
       "  </thead>\n",
       "  <tbody>\n",
       "    <tr>\n",
       "      <th>count</th>\n",
       "      <td>3648.000000</td>\n",
       "      <td>3.648000e+03</td>\n",
       "      <td>3648.0</td>\n",
       "    </tr>\n",
       "    <tr>\n",
       "      <th>mean</th>\n",
       "      <td>1952.283717</td>\n",
       "      <td>9.417104e+05</td>\n",
       "      <td>7.0</td>\n",
       "    </tr>\n",
       "    <tr>\n",
       "      <th>std</th>\n",
       "      <td>831.767822</td>\n",
       "      <td>5.353460e+05</td>\n",
       "      <td>0.0</td>\n",
       "    </tr>\n",
       "    <tr>\n",
       "      <th>min</th>\n",
       "      <td>624.000000</td>\n",
       "      <td>1.686410e+05</td>\n",
       "      <td>7.0</td>\n",
       "    </tr>\n",
       "    <tr>\n",
       "      <th>25%</th>\n",
       "      <td>1455.000000</td>\n",
       "      <td>4.049428e+05</td>\n",
       "      <td>7.0</td>\n",
       "    </tr>\n",
       "    <tr>\n",
       "      <th>50%</th>\n",
       "      <td>2021.000000</td>\n",
       "      <td>1.043308e+06</td>\n",
       "      <td>7.0</td>\n",
       "    </tr>\n",
       "    <tr>\n",
       "      <th>75%</th>\n",
       "      <td>2862.000000</td>\n",
       "      <td>1.358439e+06</td>\n",
       "      <td>7.0</td>\n",
       "    </tr>\n",
       "    <tr>\n",
       "      <th>max</th>\n",
       "      <td>3165.000000</td>\n",
       "      <td>1.870170e+06</td>\n",
       "      <td>7.0</td>\n",
       "    </tr>\n",
       "  </tbody>\n",
       "</table>\n",
       "</div>"
      ],
      "text/plain": [
       "          image_id            id  defect_class_id\n",
       "count  3648.000000  3.648000e+03           3648.0\n",
       "mean   1952.283717  9.417104e+05              7.0\n",
       "std     831.767822  5.353460e+05              0.0\n",
       "min     624.000000  1.686410e+05              7.0\n",
       "25%    1455.000000  4.049428e+05              7.0\n",
       "50%    2021.000000  1.043308e+06              7.0\n",
       "75%    2862.000000  1.358439e+06              7.0\n",
       "max    3165.000000  1.870170e+06              7.0"
      ]
     },
     "execution_count": 4,
     "metadata": {},
     "output_type": "execute_result"
    }
   ],
   "source": [
    "print(anno_df.info())\n",
    "anno_df.describe(include='int64')"
   ]
  },
  {
   "cell_type": "markdown",
   "id": "ba9fbd81-a1c8-485a-8e0f-938cc084ffc0",
   "metadata": {
    "panel-layout": {
     "height": 51.13750076293945,
     "visible": true,
     "width": 100
    }
   },
   "source": [
    "**System Predictions Dataset**"
   ]
  },
  {
   "cell_type": "code",
   "execution_count": 5,
   "id": "91e2a3ff-192d-4c80-92eb-bb2f2191a298",
   "metadata": {
    "panel-layout": {
     "height": 184.40000915527344,
     "visible": true,
     "width": 100
    }
   },
   "outputs": [
    {
     "name": "stdout",
     "output_type": "stream",
     "text": [
      "\n",
      "System Predictions (pred_df):\n"
     ]
    },
    {
     "data": {
      "text/html": [
       "<div>\n",
       "<style scoped>\n",
       "    .dataframe tbody tr th:only-of-type {\n",
       "        vertical-align: middle;\n",
       "    }\n",
       "\n",
       "    .dataframe tbody tr th {\n",
       "        vertical-align: top;\n",
       "    }\n",
       "\n",
       "    .dataframe thead th {\n",
       "        text-align: right;\n",
       "    }\n",
       "</style>\n",
       "<table border=\"1\" class=\"dataframe\">\n",
       "  <thead>\n",
       "    <tr style=\"text-align: right;\">\n",
       "      <th></th>\n",
       "      <th>image_id</th>\n",
       "      <th>prediction_id</th>\n",
       "      <th>confidence</th>\n",
       "      <th>polygon_id</th>\n",
       "      <th>prediction_class</th>\n",
       "      <th>xy</th>\n",
       "    </tr>\n",
       "  </thead>\n",
       "  <tbody>\n",
       "    <tr>\n",
       "      <th>0</th>\n",
       "      <td>3165</td>\n",
       "      <td>23699</td>\n",
       "      <td>0.431523</td>\n",
       "      <td>1937097</td>\n",
       "      <td>Defect</td>\n",
       "      <td>37.578460693359375,13.887542724609375,37.31016...</td>\n",
       "    </tr>\n",
       "    <tr>\n",
       "      <th>1</th>\n",
       "      <td>3165</td>\n",
       "      <td>23699</td>\n",
       "      <td>0.603884</td>\n",
       "      <td>1937098</td>\n",
       "      <td>Defect</td>\n",
       "      <td>231.45407104492188,9.646164820744442,225.45407...</td>\n",
       "    </tr>\n",
       "    <tr>\n",
       "      <th>2</th>\n",
       "      <td>3165</td>\n",
       "      <td>23699</td>\n",
       "      <td>0.244653</td>\n",
       "      <td>1937099</td>\n",
       "      <td>Defect</td>\n",
       "      <td>318.3146711077009,33.736045837402344,316.76688...</td>\n",
       "    </tr>\n",
       "    <tr>\n",
       "      <th>3</th>\n",
       "      <td>3165</td>\n",
       "      <td>23699</td>\n",
       "      <td>0.916268</td>\n",
       "      <td>1937100</td>\n",
       "      <td>Defect</td>\n",
       "      <td>395.9158020019531,82.97906857445126,387.915802...</td>\n",
       "    </tr>\n",
       "    <tr>\n",
       "      <th>4</th>\n",
       "      <td>3165</td>\n",
       "      <td>23699</td>\n",
       "      <td>0.366087</td>\n",
       "      <td>1937101</td>\n",
       "      <td>Defect</td>\n",
       "      <td>337.0517883300781,84.71218928584346,332.051788...</td>\n",
       "    </tr>\n",
       "  </tbody>\n",
       "</table>\n",
       "</div>"
      ],
      "text/plain": [
       "   image_id  prediction_id  confidence  polygon_id prediction_class  \\\n",
       "0      3165          23699    0.431523     1937097           Defect   \n",
       "1      3165          23699    0.603884     1937098           Defect   \n",
       "2      3165          23699    0.244653     1937099           Defect   \n",
       "3      3165          23699    0.916268     1937100           Defect   \n",
       "4      3165          23699    0.366087     1937101           Defect   \n",
       "\n",
       "                                                  xy  \n",
       "0  37.578460693359375,13.887542724609375,37.31016...  \n",
       "1  231.45407104492188,9.646164820744442,225.45407...  \n",
       "2  318.3146711077009,33.736045837402344,316.76688...  \n",
       "3  395.9158020019531,82.97906857445126,387.915802...  \n",
       "4  337.0517883300781,84.71218928584346,332.051788...  "
      ]
     },
     "metadata": {},
     "output_type": "display_data"
    }
   ],
   "source": [
    "print(\"\\nSystem Predictions (pred_df):\")\n",
    "display(pred_df.head())"
   ]
  },
  {
   "cell_type": "code",
   "execution_count": 6,
   "id": "3d2a7410-c244-4430-9650-30807d641674",
   "metadata": {
    "panel-layout": {
     "height": 248.39999389648438,
     "visible": true,
     "width": 100
    }
   },
   "outputs": [
    {
     "name": "stdout",
     "output_type": "stream",
     "text": [
      "<class 'pandas.core.frame.DataFrame'>\n",
      "RangeIndex: 7118 entries, 0 to 7117\n",
      "Data columns (total 6 columns):\n",
      " #   Column            Non-Null Count  Dtype  \n",
      "---  ------            --------------  -----  \n",
      " 0   image_id          7118 non-null   int64  \n",
      " 1   prediction_id     7118 non-null   int64  \n",
      " 2   confidence        7118 non-null   float64\n",
      " 3   polygon_id        7118 non-null   int64  \n",
      " 4   prediction_class  7118 non-null   object \n",
      " 5   xy                7118 non-null   object \n",
      "dtypes: float64(1), int64(3), object(2)\n",
      "memory usage: 333.8+ KB\n",
      "None\n"
     ]
    },
    {
     "data": {
      "text/html": [
       "<div>\n",
       "<style scoped>\n",
       "    .dataframe tbody tr th:only-of-type {\n",
       "        vertical-align: middle;\n",
       "    }\n",
       "\n",
       "    .dataframe tbody tr th {\n",
       "        vertical-align: top;\n",
       "    }\n",
       "\n",
       "    .dataframe thead th {\n",
       "        text-align: right;\n",
       "    }\n",
       "</style>\n",
       "<table border=\"1\" class=\"dataframe\">\n",
       "  <thead>\n",
       "    <tr style=\"text-align: right;\">\n",
       "      <th></th>\n",
       "      <th>image_id</th>\n",
       "      <th>prediction_id</th>\n",
       "      <th>confidence</th>\n",
       "      <th>polygon_id</th>\n",
       "    </tr>\n",
       "  </thead>\n",
       "  <tbody>\n",
       "    <tr>\n",
       "      <th>count</th>\n",
       "      <td>7118.000000</td>\n",
       "      <td>7118.000000</td>\n",
       "      <td>7118.000000</td>\n",
       "      <td>7.118000e+03</td>\n",
       "    </tr>\n",
       "    <tr>\n",
       "      <th>mean</th>\n",
       "      <td>1951.781540</td>\n",
       "      <td>23720.931863</td>\n",
       "      <td>0.512246</td>\n",
       "      <td>1.940022e+06</td>\n",
       "    </tr>\n",
       "    <tr>\n",
       "      <th>std</th>\n",
       "      <td>813.485715</td>\n",
       "      <td>14.282011</td>\n",
       "      <td>0.302539</td>\n",
       "      <td>2.054934e+03</td>\n",
       "    </tr>\n",
       "    <tr>\n",
       "      <th>min</th>\n",
       "      <td>624.000000</td>\n",
       "      <td>23699.000000</td>\n",
       "      <td>0.100062</td>\n",
       "      <td>1.936463e+06</td>\n",
       "    </tr>\n",
       "    <tr>\n",
       "      <th>25%</th>\n",
       "      <td>1455.000000</td>\n",
       "      <td>23707.000000</td>\n",
       "      <td>0.218224</td>\n",
       "      <td>1.938242e+06</td>\n",
       "    </tr>\n",
       "    <tr>\n",
       "      <th>50%</th>\n",
       "      <td>2021.000000</td>\n",
       "      <td>23721.000000</td>\n",
       "      <td>0.468183</td>\n",
       "      <td>1.940022e+06</td>\n",
       "    </tr>\n",
       "    <tr>\n",
       "      <th>75%</th>\n",
       "      <td>2324.000000</td>\n",
       "      <td>23732.000000</td>\n",
       "      <td>0.820323</td>\n",
       "      <td>1.941801e+06</td>\n",
       "    </tr>\n",
       "    <tr>\n",
       "      <th>max</th>\n",
       "      <td>3165.000000</td>\n",
       "      <td>23746.000000</td>\n",
       "      <td>0.990468</td>\n",
       "      <td>1.943580e+06</td>\n",
       "    </tr>\n",
       "  </tbody>\n",
       "</table>\n",
       "</div>"
      ],
      "text/plain": [
       "          image_id  prediction_id   confidence    polygon_id\n",
       "count  7118.000000    7118.000000  7118.000000  7.118000e+03\n",
       "mean   1951.781540   23720.931863     0.512246  1.940022e+06\n",
       "std     813.485715      14.282011     0.302539  2.054934e+03\n",
       "min     624.000000   23699.000000     0.100062  1.936463e+06\n",
       "25%    1455.000000   23707.000000     0.218224  1.938242e+06\n",
       "50%    2021.000000   23721.000000     0.468183  1.940022e+06\n",
       "75%    2324.000000   23732.000000     0.820323  1.941801e+06\n",
       "max    3165.000000   23746.000000     0.990468  1.943580e+06"
      ]
     },
     "execution_count": 6,
     "metadata": {},
     "output_type": "execute_result"
    }
   ],
   "source": [
    "print(pred_df.info())\n",
    "pred_df.describe(include=['int64', 'float64'])"
   ]
  },
  {
   "cell_type": "markdown",
   "id": "633ce2ae-369f-450c-9921-7949eea4e3cc",
   "metadata": {
    "panel-layout": {
     "height": 51.13750076293945,
     "visible": true,
     "width": 100
    }
   },
   "source": [
    "**Check for missing values**"
   ]
  },
  {
   "cell_type": "code",
   "execution_count": 7,
   "id": "0a6c659a-02f8-49d4-9fd1-2fff9533b72d",
   "metadata": {
    "panel-layout": {
     "height": 248.39999389648438,
     "visible": true,
     "width": 100
    }
   },
   "outputs": [
    {
     "data": {
      "text/plain": [
       "filename           0\n",
       "image_id           0\n",
       "id                 0\n",
       "defect_class_id    0\n",
       "label              0\n",
       "xy                 0\n",
       "x                  0\n",
       "y                  0\n",
       "dtype: int64"
      ]
     },
     "execution_count": 7,
     "metadata": {},
     "output_type": "execute_result"
    }
   ],
   "source": [
    "# Missing values in `anno_df`\n",
    "anno_df.isna().sum()"
   ]
  },
  {
   "cell_type": "code",
   "execution_count": 8,
   "id": "1d799d25-0f05-40c9-a8d3-a8d095ea6776",
   "metadata": {
    "panel-layout": {
     "height": 195.60000610351562,
     "visible": true,
     "width": 100
    }
   },
   "outputs": [
    {
     "data": {
      "text/plain": [
       "image_id            0\n",
       "prediction_id       0\n",
       "confidence          0\n",
       "polygon_id          0\n",
       "prediction_class    0\n",
       "xy                  0\n",
       "dtype: int64"
      ]
     },
     "execution_count": 8,
     "metadata": {},
     "output_type": "execute_result"
    }
   ],
   "source": [
    "# Missing values in `anno_df`\n",
    "pred_df.isna().sum()"
   ]
  },
  {
   "cell_type": "markdown",
   "id": "1eefd4ea-9b99-4000-8a98-361e68d2be4e",
   "metadata": {
    "panel-layout": {
     "height": 51.13750076293945,
     "visible": true,
     "width": 100
    }
   },
   "source": [
    "No Missing values in both data sets "
   ]
  },
  {
   "cell_type": "markdown",
   "id": "e8805f9d-c2e7-494a-9f45-646e48a085b1",
   "metadata": {
    "panel-layout": {
     "height": 51.13750076293945,
     "visible": true,
     "width": 100
    }
   },
   "source": [
    "**Check for duplicated records**"
   ]
  },
  {
   "cell_type": "code",
   "execution_count": 9,
   "id": "4753a761-3e94-48a9-a927-b163d198e969",
   "metadata": {},
   "outputs": [
    {
     "data": {
      "text/plain": [
       "np.int64(0)"
      ]
     },
     "execution_count": 9,
     "metadata": {},
     "output_type": "execute_result"
    }
   ],
   "source": [
    "anno_df.duplicated().sum()"
   ]
  },
  {
   "cell_type": "code",
   "execution_count": 10,
   "id": "4e7c7737-f224-49cb-a2ae-54e807448c26",
   "metadata": {
    "panel-layout": {
     "height": 27.137500762939453,
     "visible": true,
     "width": 100
    }
   },
   "outputs": [
    {
     "data": {
      "text/plain": [
       "np.int64(0)"
      ]
     },
     "execution_count": 10,
     "metadata": {},
     "output_type": "execute_result"
    }
   ],
   "source": [
    "pred_df.duplicated().sum()"
   ]
  },
  {
   "cell_type": "markdown",
   "id": "8d45ac31-1191-4b8b-89aa-2c088941e0ba",
   "metadata": {
    "panel-layout": {
     "height": 51.13750076293945,
     "visible": true,
     "width": 100
    }
   },
   "source": [
    "No duplicated entries in both datasets "
   ]
  },
  {
   "cell_type": "markdown",
   "id": "5f44696a-34be-419d-a77b-e11996a2397e",
   "metadata": {
    "panel-layout": {
     "height": 51.13750076293945,
     "visible": true,
     "width": 100
    }
   },
   "source": [
    "**Drop Unary columns**"
   ]
  },
  {
   "cell_type": "code",
   "execution_count": 11,
   "id": "af5b5db9-6b71-48a5-a9e6-d087f812ce41",
   "metadata": {},
   "outputs": [],
   "source": [
    "def drop_unary_columns(df: pd.DataFrame) -> pd.DataFrame:\n",
    "    \"\"\"\n",
    "    Drops columns from the DataFrame that contain only a single unique value.\n",
    "    \"\"\"\n",
    "    return df.loc[:, df.nunique() > 1]"
   ]
  },
  {
   "cell_type": "markdown",
   "id": "0fdcdbec-7aca-4ef6-806c-81759a3bd04c",
   "metadata": {
    "panel-layout": {
     "height": 51.13750076293945,
     "visible": true,
     "width": 100
    }
   },
   "source": [
    "Manual dataset "
   ]
  },
  {
   "cell_type": "code",
   "execution_count": 12,
   "id": "51db5930-0e0d-4d27-96ed-48883b94144c",
   "metadata": {
    "panel-layout": {
     "height": 674,
     "visible": true,
     "width": 100
    }
   },
   "outputs": [
    {
     "data": {
      "text/html": [
       "<div>\n",
       "<style scoped>\n",
       "    .dataframe tbody tr th:only-of-type {\n",
       "        vertical-align: middle;\n",
       "    }\n",
       "\n",
       "    .dataframe tbody tr th {\n",
       "        vertical-align: top;\n",
       "    }\n",
       "\n",
       "    .dataframe thead th {\n",
       "        text-align: right;\n",
       "    }\n",
       "</style>\n",
       "<table border=\"1\" class=\"dataframe\">\n",
       "  <thead>\n",
       "    <tr style=\"text-align: right;\">\n",
       "      <th></th>\n",
       "      <th>filename</th>\n",
       "      <th>image_id</th>\n",
       "      <th>id</th>\n",
       "      <th>xy</th>\n",
       "      <th>x</th>\n",
       "      <th>y</th>\n",
       "    </tr>\n",
       "  </thead>\n",
       "  <tbody>\n",
       "    <tr>\n",
       "      <th>0</th>\n",
       "      <td>1g_04.png</td>\n",
       "      <td>624</td>\n",
       "      <td>175683</td>\n",
       "      <td>1354,1377.48,1330.52,1389.22,1330.52,1412.699,...</td>\n",
       "      <td>[1354.0, 1330.52, 1330.52, 1350.087, 1357.913,...</td>\n",
       "      <td>[1377.48, 1389.22, 1412.699, 1424.439, 1420.52...</td>\n",
       "    </tr>\n",
       "    <tr>\n",
       "      <th>1</th>\n",
       "      <td>1g_04.png</td>\n",
       "      <td>624</td>\n",
       "      <td>175664</td>\n",
       "      <td>223.058,1804.029,199.578,1800.116,191.751,1815...</td>\n",
       "      <td>[223.058, 199.578, 191.751, 203.491, 223.058, ...</td>\n",
       "      <td>[1804.029, 1800.116, 1815.769, 1831.422, 1835....</td>\n",
       "    </tr>\n",
       "    <tr>\n",
       "      <th>2</th>\n",
       "      <td>1g_04.png</td>\n",
       "      <td>624</td>\n",
       "      <td>175634</td>\n",
       "      <td>1549.665,1005.717,1545.751,1013.543,1541.838,1...</td>\n",
       "      <td>[1549.665, 1545.751, 1541.838, 1541.838, 1557....</td>\n",
       "      <td>[1005.717, 1013.543, 1021.37, 1037.023, 1037.0...</td>\n",
       "    </tr>\n",
       "    <tr>\n",
       "      <th>3</th>\n",
       "      <td>1g_04.png</td>\n",
       "      <td>624</td>\n",
       "      <td>175654</td>\n",
       "      <td>661.347,1678.803,637.867,1667.064,614.387,1674...</td>\n",
       "      <td>[661.347, 637.867, 614.387, 622.214, 630.04, 6...</td>\n",
       "      <td>[1678.803, 1667.064, 1674.89, 1698.37, 1694.45...</td>\n",
       "    </tr>\n",
       "    <tr>\n",
       "      <th>4</th>\n",
       "      <td>1g_04.png</td>\n",
       "      <td>624</td>\n",
       "      <td>175633</td>\n",
       "      <td>1784.462,1897.948,1796.202,1886.208,1804.029,1...</td>\n",
       "      <td>[1784.462, 1796.202, 1804.029, 1780.549, 1772....</td>\n",
       "      <td>[1897.948, 1886.208, 1870.555, 1858.815, 1862....</td>\n",
       "    </tr>\n",
       "  </tbody>\n",
       "</table>\n",
       "</div>"
      ],
      "text/plain": [
       "    filename  image_id      id  \\\n",
       "0  1g_04.png       624  175683   \n",
       "1  1g_04.png       624  175664   \n",
       "2  1g_04.png       624  175634   \n",
       "3  1g_04.png       624  175654   \n",
       "4  1g_04.png       624  175633   \n",
       "\n",
       "                                                  xy  \\\n",
       "0  1354,1377.48,1330.52,1389.22,1330.52,1412.699,...   \n",
       "1  223.058,1804.029,199.578,1800.116,191.751,1815...   \n",
       "2  1549.665,1005.717,1545.751,1013.543,1541.838,1...   \n",
       "3  661.347,1678.803,637.867,1667.064,614.387,1674...   \n",
       "4  1784.462,1897.948,1796.202,1886.208,1804.029,1...   \n",
       "\n",
       "                                                   x  \\\n",
       "0  [1354.0, 1330.52, 1330.52, 1350.087, 1357.913,...   \n",
       "1  [223.058, 199.578, 191.751, 203.491, 223.058, ...   \n",
       "2  [1549.665, 1545.751, 1541.838, 1541.838, 1557....   \n",
       "3  [661.347, 637.867, 614.387, 622.214, 630.04, 6...   \n",
       "4  [1784.462, 1796.202, 1804.029, 1780.549, 1772....   \n",
       "\n",
       "                                                   y  \n",
       "0  [1377.48, 1389.22, 1412.699, 1424.439, 1420.52...  \n",
       "1  [1804.029, 1800.116, 1815.769, 1831.422, 1835....  \n",
       "2  [1005.717, 1013.543, 1021.37, 1037.023, 1037.0...  \n",
       "3  [1678.803, 1667.064, 1674.89, 1698.37, 1694.45...  \n",
       "4  [1897.948, 1886.208, 1870.555, 1858.815, 1862....  "
      ]
     },
     "execution_count": 12,
     "metadata": {},
     "output_type": "execute_result"
    }
   ],
   "source": [
    "anno_df = drop_unary_columns(anno_df)\n",
    "\n",
    "# Check the resultant dataframe\n",
    "anno_df.head()"
   ]
  },
  {
   "cell_type": "code",
   "execution_count": 13,
   "id": "2e7c5772-d280-45c9-9df0-648b55d1c04b",
   "metadata": {
    "panel-layout": {
     "height": 184.40000915527344,
     "visible": true,
     "width": 100
    }
   },
   "outputs": [
    {
     "data": {
      "text/html": [
       "<div>\n",
       "<style scoped>\n",
       "    .dataframe tbody tr th:only-of-type {\n",
       "        vertical-align: middle;\n",
       "    }\n",
       "\n",
       "    .dataframe tbody tr th {\n",
       "        vertical-align: top;\n",
       "    }\n",
       "\n",
       "    .dataframe thead th {\n",
       "        text-align: right;\n",
       "    }\n",
       "</style>\n",
       "<table border=\"1\" class=\"dataframe\">\n",
       "  <thead>\n",
       "    <tr style=\"text-align: right;\">\n",
       "      <th></th>\n",
       "      <th>image_id</th>\n",
       "      <th>prediction_id</th>\n",
       "      <th>confidence</th>\n",
       "      <th>polygon_id</th>\n",
       "      <th>xy</th>\n",
       "    </tr>\n",
       "  </thead>\n",
       "  <tbody>\n",
       "    <tr>\n",
       "      <th>0</th>\n",
       "      <td>3165</td>\n",
       "      <td>23699</td>\n",
       "      <td>0.431523</td>\n",
       "      <td>1937097</td>\n",
       "      <td>37.578460693359375,13.887542724609375,37.31016...</td>\n",
       "    </tr>\n",
       "    <tr>\n",
       "      <th>1</th>\n",
       "      <td>3165</td>\n",
       "      <td>23699</td>\n",
       "      <td>0.603884</td>\n",
       "      <td>1937098</td>\n",
       "      <td>231.45407104492188,9.646164820744442,225.45407...</td>\n",
       "    </tr>\n",
       "    <tr>\n",
       "      <th>2</th>\n",
       "      <td>3165</td>\n",
       "      <td>23699</td>\n",
       "      <td>0.244653</td>\n",
       "      <td>1937099</td>\n",
       "      <td>318.3146711077009,33.736045837402344,316.76688...</td>\n",
       "    </tr>\n",
       "    <tr>\n",
       "      <th>3</th>\n",
       "      <td>3165</td>\n",
       "      <td>23699</td>\n",
       "      <td>0.916268</td>\n",
       "      <td>1937100</td>\n",
       "      <td>395.9158020019531,82.97906857445126,387.915802...</td>\n",
       "    </tr>\n",
       "    <tr>\n",
       "      <th>4</th>\n",
       "      <td>3165</td>\n",
       "      <td>23699</td>\n",
       "      <td>0.366087</td>\n",
       "      <td>1937101</td>\n",
       "      <td>337.0517883300781,84.71218928584346,332.051788...</td>\n",
       "    </tr>\n",
       "  </tbody>\n",
       "</table>\n",
       "</div>"
      ],
      "text/plain": [
       "   image_id  prediction_id  confidence  polygon_id  \\\n",
       "0      3165          23699    0.431523     1937097   \n",
       "1      3165          23699    0.603884     1937098   \n",
       "2      3165          23699    0.244653     1937099   \n",
       "3      3165          23699    0.916268     1937100   \n",
       "4      3165          23699    0.366087     1937101   \n",
       "\n",
       "                                                  xy  \n",
       "0  37.578460693359375,13.887542724609375,37.31016...  \n",
       "1  231.45407104492188,9.646164820744442,225.45407...  \n",
       "2  318.3146711077009,33.736045837402344,316.76688...  \n",
       "3  395.9158020019531,82.97906857445126,387.915802...  \n",
       "4  337.0517883300781,84.71218928584346,332.051788...  "
      ]
     },
     "execution_count": 13,
     "metadata": {},
     "output_type": "execute_result"
    }
   ],
   "source": [
    "pred_df = drop_unary_columns(pred_df)\n",
    "\n",
    "# Check for the resultant dataframe \n",
    "pred_df.head()"
   ]
  },
  {
   "cell_type": "markdown",
   "id": "f676b1b1-fa57-4596-a8c8-e5f7496d2b04",
   "metadata": {
    "panel-layout": {
     "height": 51.9375,
     "visible": true,
     "width": 100
    }
   },
   "source": [
    "Check if two columns; `image_id` and `filename` match. Such that the each image id goes with each of the filename\n"
   ]
  },
  {
   "cell_type": "code",
   "execution_count": 14,
   "id": "52edcb7c-584c-44ee-aba8-197c5994ef23",
   "metadata": {},
   "outputs": [
    {
     "name": "stdout",
     "output_type": "stream",
     "text": [
      "Unique filenames per image_id:\n",
      "filename\n",
      "1    48\n",
      "Name: count, dtype: int64\n",
      "\n",
      "Unique image_ids per filename:\n",
      "image_id\n",
      "1    48\n",
      "Name: count, dtype: int64\n",
      "Each image_id uniquely matches a filename and vice versa.\n"
     ]
    }
   ],
   "source": [
    "# Check if each image_id uniquely matches a filename\n",
    "image_id_to_filename = anno_df.groupby('image_id')['filename'].nunique()\n",
    "filename_to_image_id = anno_df.groupby('filename')['image_id'].nunique()\n",
    "\n",
    "# Print results\n",
    "print(\"Unique filenames per image_id:\")\n",
    "print(image_id_to_filename.value_counts())\n",
    "\n",
    "print(\"\\nUnique image_ids per filename:\")\n",
    "print(filename_to_image_id.value_counts())\n",
    "\n",
    "# Check for mismatches\n",
    "if (image_id_to_filename > 1).any() or (filename_to_image_id > 1).any():\n",
    "    print(\"Warning: There are image_ids associated with multiple filenames or vice versa.\")\n",
    "else:\n",
    "    print(\"Each image_id uniquely matches a filename and vice versa.\")"
   ]
  },
  {
   "cell_type": "markdown",
   "id": "7bb7adda-e3de-42c6-b944-188f2f5b4c13",
   "metadata": {
    "panel-layout": {
     "height": 44.07500076293945,
     "visible": true,
     "width": 100
    }
   },
   "source": [
    "### Data Visualization"
   ]
  },
  {
   "cell_type": "code",
   "execution_count": 15,
   "id": "081140fd-22dc-43ca-bade-93ca8f768290",
   "metadata": {
    "panel-layout": {
     "height": 586,
     "visible": true,
     "width": 100
    }
   },
   "outputs": [
    {
     "data": {
      "image/png": "[encoded data removed]",
      "text/plain": [
       "<Figure size 800x400 with 1 Axes>"
      ]
     },
     "metadata": {},
     "output_type": "display_data"
    }
   ],
   "source": [
    "# Class distribution (example for 'label' column)\n",
    "plt.figure(figsize=(8,4))\n",
    "sns.distplot(pred_df[\"confidence\"])\n",
    "plt.title('Distribution of confidence in generated images')\n",
    "# plt.xticks(rotation=45)\n",
    "plt.show()"
   ]
  },
  {
   "cell_type": "markdown",
   "id": "4fe1ef0e-74bc-4397-9c0b-d43cfab12e36",
   "metadata": {
    "panel-layout": {
     "height": 51.13750076293945,
     "visible": true,
     "width": 100
    }
   },
   "source": [
    "The distribution of the generated images is binomial. The extreme cases lead where there are more instances of very low and high confidence compared to the moderate confidence"
   ]
  },
  {
   "cell_type": "code",
   "execution_count": 16,
   "id": "c2837c8b-8378-4476-b28e-0f960552e324",
   "metadata": {
    "panel-layout": {
     "height": 637.1375122070312,
     "visible": true,
     "width": 100
    }
   },
   "outputs": [
    {
     "data": {
      "text/plain": [
       "'[1354.0, 1330.52, 1330.52, 1350.087, 1357.913, 1365.74, 1365.74]'"
      ]
     },
     "execution_count": 16,
     "metadata": {},
     "output_type": "execute_result"
    }
   ],
   "source": [
    "anno_df[\"x\"][0]"
   ]
  },
  {
   "cell_type": "code",
   "execution_count": 17,
   "id": "2b38012d-8a7c-4fa1-aed4-9829d720ac23",
   "metadata": {
    "panel-layout": {
     "height": 637.1375122070312,
     "visible": true,
     "width": 100
    }
   },
   "outputs": [
    {
     "data": {
      "text/plain": [
       "'[1377.48, 1389.22, 1412.699, 1424.439, 1420.526, 1408.786, 1397.046]'"
      ]
     },
     "execution_count": 17,
     "metadata": {},
     "output_type": "execute_result"
    }
   ],
   "source": [
    "anno_df[\"y\"][0]"
   ]
  },
  {
   "cell_type": "code",
   "execution_count": 18,
   "id": "4f79d489-7a01-4b23-af2c-d6fd4c57a5c8",
   "metadata": {
    "panel-layout": {
     "height": 637.1375122070312,
     "visible": true,
     "width": 100
    }
   },
   "outputs": [
    {
     "data": {
      "text/plain": [
       "'1354,1377.48,1330.52,1389.22,1330.52,1412.699,1350.087,1424.439,1357.913,1420.526,1365.74,1408.786,1365.74,1397.046'"
      ]
     },
     "execution_count": 18,
     "metadata": {},
     "output_type": "execute_result"
    }
   ],
   "source": [
    "anno_df[\"xy\"][0]"
   ]
  },
  {
   "cell_type": "code",
   "execution_count": 19,
   "id": "f1a967d1-c18c-4192-b5cc-d45ac2bf759e",
   "metadata": {
    "panel-layout": {
     "height": 671.4125366210938,
     "visible": true,
     "width": 100
    }
   },
   "outputs": [
    {
     "data": {
      "text/plain": [
       "'37.578460693359375,13.887542724609375,37.31016801043255,21.325042724609375,41.03679402669271,31.325042724609375,48.578460693359375,38.22826853106099,58.578460693359375,39.41595181551847,65.34316657571232,36.325042724609375,72.57846069335938,29.00686090642756,71.57846069335938,16.73680743049173,63.578460693359375,10.758376057942709,47.578460693359375,9.022717143214026,40.578460693359375,10.389558853641633,37.578460693359375,13.887542724609375'"
      ]
     },
     "execution_count": 19,
     "metadata": {},
     "output_type": "execute_result"
    }
   ],
   "source": [
    "pred_df[\"xy\"][0]"
   ]
  },
  {
   "cell_type": "markdown",
   "id": "e297b301-598b-4b0f-a61f-462834fa2437",
   "metadata": {
    "panel-layout": {
     "height": 80.2750015258789,
     "visible": true,
     "width": 100
    }
   },
   "source": [
    "**Defect Location Heatmaps** \n",
    "\n",
    "Plot the (x, y) coordinates of defects on a representative image or grid to visualize spatial clustering or annotation density."
   ]
  },
  {
   "cell_type": "code",
   "execution_count": 20,
   "id": "39b8afd6-cf65-4a99-aeec-a98c0e0c1a8d",
   "metadata": {
    "panel-layout": {
     "height": 874,
     "visible": true,
     "width": 100
    }
   },
   "outputs": [
    {
     "data": {
      "image/png": "[encoded data removed]",
      "text/plain": [
       "<Figure size 800x600 with 1 Axes>"
      ]
     },
     "metadata": {},
     "output_type": "display_data"
    },
    {
     "data": {
      "image/png": "[encoded data removed]",
      "text/plain": [
       "<Figure size 800x600 with 1 Axes>"
      ]
     },
     "metadata": {},
     "output_type": "display_data"
    }
   ],
   "source": [
    "def extract_xy_coords(xy_str):\n",
    "    \"\"\"Parse the xy string into separate x and y lists.\"\"\"\n",
    "    coords = [float(val) for val in xy_str.split(',')]\n",
    "    x_coords = coords[::2]\n",
    "    y_coords = coords[1::2]\n",
    "    return x_coords, y_coords\n",
    "\n",
    "def get_all_coords(df):\n",
    "    \"\"\"Aggregate all x and y coordinates from the dataframe.\"\"\"\n",
    "    all_x, all_y = [], []\n",
    "    for xy_str in df['xy']:\n",
    "        x, y = extract_xy_coords(xy_str)\n",
    "        all_x.extend(x)\n",
    "        all_y.extend(y)\n",
    "    return np.array(all_x), np.array(all_y)\n",
    "\n",
    "# For anno_df\n",
    "anno_x, anno_y = get_all_coords(anno_df)\n",
    "\n",
    "plt.figure(figsize=(8, 6))\n",
    "sns.kdeplot(x=anno_x, y=anno_y, cmap=\"Reds\", fill=True, thresh=0.05)\n",
    "plt.title(\"Defect Location Heatmap (anno_df)\")\n",
    "plt.xlabel(\"X coordinate\")\n",
    "plt.ylabel(\"Y coordinate\")\n",
    "plt.gca().invert_yaxis()  # Optional: match image coordinate system\n",
    "plt.show()\n",
    "\n",
    "# For pred_df\n",
    "pred_x, pred_y = get_all_coords(pred_df)\n",
    "plt.figure(figsize=(8, 6))\n",
    "sns.kdeplot(x=pred_x, y=pred_y, cmap=\"Blues\", fill=True, thresh=0.05)\n",
    "plt.title(\"Defect Location Heatmap (pred_df)\")\n",
    "plt.xlabel(\"X coordinate\")\n",
    "plt.ylabel(\"Y coordinate\")\n",
    "plt.gca().invert_yaxis()\n",
    "plt.show()"
   ]
  },
  {
   "cell_type": "markdown",
   "id": "2221c9e9-84c6-4fc4-873b-4b2a37c91fde",
   "metadata": {
    "panel-layout": {
     "height": 51.13750076293945,
     "visible": true,
     "width": 100
    }
   },
   "source": [
    "The defects are most concentrated at the top-left quarter of the images for both the manually and the generated images"
   ]
  },
  {
   "cell_type": "code",
   "execution_count": 21,
   "id": "749ac4dc-dd48-488b-9334-b542ba3b6e93",
   "metadata": {},
   "outputs": [
    {
     "data": {
      "image/png": "[encoded data removed]",
      "text/plain": [
       "<Figure size 1400x600 with 1 Axes>"
      ]
     },
     "metadata": {},
     "output_type": "display_data"
    }
   ],
   "source": [
    "# Count defects per image for both datasets\n",
    "anno_counts = anno_df['image_id'].value_counts().sort_index()\n",
    "pred_counts = pred_df['image_id'].value_counts().sort_index()\n",
    "\n",
    "# Combine into a DataFrame for grouped bar chart\n",
    "counts_df = pd.DataFrame({\n",
    "    'Manual (anno_df)': anno_counts,\n",
    "    'Predicted (pred_df)': pred_counts\n",
    "}).fillna(0).astype(int)\n",
    "\n",
    "# Plot grouped bar chart\n",
    "counts_df.plot(kind='bar', figsize=(14, 6))\n",
    "plt.title('Per-Image Defect Count: Manual vs Predicted')\n",
    "plt.xlabel('Image Id')\n",
    "plt.ylabel('Number of Defects')\n",
    "plt.legend()\n",
    "plt.tight_layout()\n",
    "plt.show()"
   ]
  },
  {
   "cell_type": "markdown",
   "id": "0462388e-2b84-4042-83fc-c77d5555bf86",
   "metadata": {},
   "source": [
    "The system predicted more defects than the manual annotation in all the images "
   ]
  }
 ],
 "metadata": {
  "kernelspec": {
   "display_name": "Python 3 (ipykernel)",
   "language": "python",
   "name": "python3"
  },
  "language_info": {
   "codemirror_mode": {
    "name": "ipython",
    "version": 3
   },
   "file_extension": ".py",
   "mimetype": "text/x-python",
   "name": "python",
   "nbconvert_exporter": "python",
   "pygments_lexer": "ipython3",
   "version": "3.13.5"
  },
  "panel-cell-order": [
   "dbabe2d1-2bf5-43fa-a6a0-01090815b8cc",
   "da6fe379-58e1-4982-9866-a8a655a7501d",
   "8b7eab8f-7fed-4625-b412-ad58480d54e1",
   "dc7e3f49-2664-4152-9d8a-dd25edb0201b",
   "dc54addc-ba11-4a45-8fa3-01b9f9005755",
   "ed931bd1-921b-472b-a96f-5d4a9d4d9626",
   "c354a279-bdd9-4f4d-a842-d49588e7f3ea",
   "ba9fbd81-a1c8-485a-8e0f-938cc084ffc0",
   "91e2a3ff-192d-4c80-92eb-bb2f2191a298",
   "3d2a7410-c244-4430-9650-30807d641674",
   "633ce2ae-369f-450c-9921-7949eea4e3cc",
   "0a6c659a-02f8-49d4-9fd1-2fff9533b72d",
   "1d799d25-0f05-40c9-a8d3-a8d095ea6776",
   "1eefd4ea-9b99-4000-8a98-361e68d2be4e",
   "e8805f9d-c2e7-494a-9f45-646e48a085b1",
   "4e7c7737-f224-49cb-a2ae-54e807448c26",
   "8d45ac31-1191-4b8b-89aa-2c088941e0ba",
   "5f44696a-34be-419d-a77b-e11996a2397e",
   "0fdcdbec-7aca-4ef6-806c-81759a3bd04c",
   "51db5930-0e0d-4d27-96ed-48883b94144c",
   "2e7c5772-d280-45c9-9df0-648b55d1c04b",
   "f676b1b1-fa57-4596-a8c8-e5f7496d2b04",
   "7bb7adda-e3de-42c6-b944-188f2f5b4c13",
   "081140fd-22dc-43ca-bade-93ca8f768290",
   "4fe1ef0e-74bc-4397-9c0b-d43cfab12e36",
   "c2837c8b-8378-4476-b28e-0f960552e324",
   "2b38012d-8a7c-4fa1-aed4-9829d720ac23",
   "4f79d489-7a01-4b23-af2c-d6fd4c57a5c8",
   "f1a967d1-c18c-4192-b5cc-d45ac2bf759e",
   "e297b301-598b-4b0f-a61f-462834fa2437",
   "39b8afd6-cf65-4a99-aeec-a98c0e0c1a8d",
   "2221c9e9-84c6-4fc4-873b-4b2a37c91fde"
  ]
 },
 "nbformat": 4,
 "nbformat_minor": 5
}
