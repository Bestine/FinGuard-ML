{
 "cells": [
  {
   "cell_type": "markdown",
   "id": "abb55abc-bf37-4250-9fd2-3f455df07be3",
   "metadata": {},
   "source": [
    "**Load the required libraries and data**"
   ]
  },
  {
   "cell_type": "code",
   "execution_count": null,
   "id": "147ed892-cb12-4376-b4ba-847eb15f8032",
   "metadata": {},
   "outputs": [],
   "source": [
    "# # Load the required libraries \n",
    "# import pandas as pd\n",
    "# import numpy as np\n",
    "# from sklearn.metrics import accuracy_score, precision_score, recall_score, f1_score, confusion_matrix, roc_curve, auc, precision_recall_curve\n",
    "# import matplotlib.pyplot as plt\n",
    "# import seaborn as sns"
   ]
  },
  {
   "cell_type": "code",
   "execution_count": null,
   "id": "6fdbea48-81d1-4609-b64a-00b56da0a962",
   "metadata": {},
   "outputs": [],
   "source": [
    "# # --- Assumptions ---\n",
    "# # pred_df should have columns: filename, predicted_label, confidence\n",
    "# # anno_df should have columns: filename, label\n",
    "# # You may need to adjust column names as per your actual data\n",
    "\n",
    "# # Merge on filename (or image_id if more appropriate)\n",
    "# merged = pd.merge(pred_df, anno_df[['filename', 'label']], on='filename', how='inner', suffixes=('_pred', '_true'))\n",
    "\n",
    "# # If pred_df has a confidence column, use it for thresholding\n",
    "# thresholds = np.linspace(0, 1, 21)\n",
    "# metrics = []\n",
    "\n",
    "# for thresh in thresholds:\n",
    "#     # Assume binary classification: 1 = defect, 0 = no defect\n",
    "#     # Adjust as needed for multiclass\n",
    "#     merged['pred_bin'] = (merged['confidence'] >= thresh).astype(int)\n",
    "#     merged['true_bin'] = (merged['label'] != 'no defect').astype(int)  # Adjust if your negative class is named differently\n",
    "\n",
    "#     acc = accuracy_score(merged['true_bin'], merged['pred_bin'])\n",
    "#     prec = precision_score(merged['true_bin'], merged['pred_bin'], zero_division=0)\n",
    "#     rec = recall_score(merged['true_bin'], merged['pred_bin'], zero_division=0)\n",
    "#     f1 = f1_score(merged['true_bin'], merged['pred_bin'], zero_division=0)\n",
    "#     metrics.append([thresh, acc, prec, rec, f1])\n",
    "\n",
    "# metrics_df = pd.DataFrame(metrics, columns=['Threshold', 'Accuracy', 'Precision', 'Recall', 'F1'])\n",
    "\n",
    "# # Plot metrics vs. threshold\n",
    "# plt.figure(figsize=(10,6))\n",
    "# plt.plot(metrics_df['Threshold'], metrics_df['Accuracy'], label='Accuracy')\n",
    "# plt.plot(metrics_df['Threshold'], metrics_df['Precision'], label='Precision')\n",
    "# plt.plot(metrics_df['Threshold'], metrics_df['Recall'], label='Recall')\n",
    "# plt.plot(metrics_df['Threshold'], metrics_df['F1'], label='F1-score')\n",
    "# plt.xlabel('Confidence Threshold')\n",
    "# plt.ylabel('Score')\n",
    "# plt.title('Metrics vs. Confidence Threshold')\n",
    "# plt.legend()\n",
    "# plt.show()\n",
    "\n",
    "# # Confusion matrix at optimal threshold (e.g., max F1)\n",
    "# best_idx = metrics_df['F1'].idxmax()\n",
    "# best_thresh = metrics_df.loc[best_idx, 'Threshold']\n",
    "# merged['pred_bin'] = (merged['confidence'] >= best_thresh).astype(int)\n",
    "# cm = confusion_matrix(merged['true_bin'], merged['pred_bin'])\n",
    "\n",
    "# plt.figure(figsize=(5,4))\n",
    "# sns.heatmap(cm, annot=True, fmt='d', cmap='Blues')\n",
    "# plt.xlabel('Predicted')\n",
    "# plt.ylabel('True')\n",
    "# plt.title(f'Confusion Matrix (Threshold={best_thresh:.2f})')\n",
    "# plt.show()\n",
    "\n",
    "# # ROC Curve\n",
    "# fpr, tpr, _ = roc_curve(merged['true_bin'], merged['confidence'])\n",
    "# roc_auc = auc(fpr, tpr)\n",
    "# plt.figure(figsize=(6,5))\n",
    "# plt.plot(fpr, tpr, label=f'ROC curve (AUC = {roc_auc:.2f})')\n",
    "# plt.plot([0,1], [0,1], 'k--')\n",
    "# plt.xlabel('False Positive Rate')\n",
    "# plt.ylabel('True Positive Rate')\n",
    "# plt.title('ROC Curve')\n",
    "# plt.legend()\n",
    "# plt.show()\n",
    "\n",
    "# # Precision-Recall Curve\n",
    "# prec, rec, _ = precision_recall_curve(merged['true_bin'], merged['confidence'])\n",
    "# plt.figure(figsize=(6,5))\n",
    "# plt.plot(rec, prec, label='Precision-Recall curve')\n",
    "# plt.xlabel('Recall')\n",
    "# plt.ylabel('Precision')\n",
    "# plt.title('Precision-Recall Curve')\n",
    "# plt.legend()\n",
    "# plt.show()\n",
    "# # ...existing code..."
   ]
  },
  {
   "cell_type": "code",
   "execution_count": null,
   "id": "31253dae-0c68-4470-8504-dba40006cd34",
   "metadata": {},
   "outputs": [],
   "source": []
  },
  {
   "cell_type": "code",
   "execution_count": null,
   "id": "1fd61b1b-d756-4f05-a9da-a09877e26c73",
   "metadata": {},
   "outputs": [],
   "source": [
    "import pandas as pd\n",
    "import ast\n",
    "from shapely.geometry import Polygon"
   ]
  },
  {
   "cell_type": "code",
   "execution_count": null,
   "id": "a54cd22d-702f-4d9f-9a98-95422ae4e4c1",
   "metadata": {},
   "outputs": [],
   "source": [
    "# Load data\n",
    "anno_df = pd.read_csv('../data/clean-data/anno_df_clean.csv')\n",
    "pred_df = pd.read_csv('../data/clean-data/pred_df_clean.csv')"
   ]
  },
  {
   "cell_type": "code",
   "execution_count": null,
   "id": "b9d56a40-0767-42c7-8283-06ae4fb99c76",
   "metadata": {
    "scrolled": true
   },
   "outputs": [],
   "source": [
    "anno_df[\"xy\"] = anno_df[\"xy\"].apply(ast.literal_eval)\n",
    "pred_df[\"xy\"] = pred_df[\"xy\"].apply(ast.literal_eval)"
   ]
  },
  {
   "cell_type": "code",
   "execution_count": null,
   "id": "df276c36-d2bf-4192-8eb2-fa6a3b6c1419",
   "metadata": {},
   "outputs": [],
   "source": [
    "def parse_xy(xy_str):\n",
    "    # Implement parsing logic depending on your format\n",
    "    # Example: if xy_str is 'x1,y1;x2,y2;...'\n",
    "    return [tuple(map(float, point.split(','))) for point in xy_str.split(';')]\n",
    "\n",
    "# def iou(poly1, poly2):\n",
    "#     # Compute Intersection over Union using shapely\n",
    "#     p1 = Polygon(poly1)\n",
    "#     p2 = Polygon(poly2)\n",
    "#     if not p1.is_valid or not p2.is_valid:\n",
    "#         return 0.0\n",
    "#     inter = p1.intersection(p2).area\n",
    "#     union = p1.union(p2).area\n",
    "#     return inter / union if union > 0 else 0\n",
    "\n",
    "def iou(poly1, poly2):\n",
    "    # Convert flat list to list of (x, y) tuples if needed\n",
    "    if isinstance(poly1[0], (int, float)):\n",
    "        poly1 = list(zip(poly1[::2], poly1[1::2]))\n",
    "    if isinstance(poly2[0], (int, float)):\n",
    "        poly2 = list(zip(poly2[::2], poly2[1::2]))\n",
    "    p1 = Polygon(poly1)\n",
    "    p2 = Polygon(poly2)\n",
    "    if not p1.is_valid or not p2.is_valid:\n",
    "        return 0\n",
    "    inter = p1.intersection(p2).area\n",
    "    union = p1.union(p2).area\n",
    "    return inter / union if union > 0 else 0"
   ]
  },
  {
   "cell_type": "code",
   "execution_count": null,
   "id": "cf92b2fa-94e5-4e7b-9ccc-5a8ece308732",
   "metadata": {},
   "outputs": [],
   "source": [
    "# Set IoU threshold for a match\n",
    "IOU_THRESHOLD = 0.5\n",
    "\n",
    "TP = 0\n",
    "FP = 0\n",
    "FN = 0"
   ]
  },
  {
   "cell_type": "code",
   "execution_count": null,
   "id": "be4b4ace-eaf9-48a8-aedf-8b7a36cd2536",
   "metadata": {},
   "outputs": [],
   "source": [
    "for image_id in anno_df['image_id'].unique():\n",
    "    gt_polys = anno_df[anno_df['image_id'] == image_id]['xy'].apply(parse_xy).tolist()\n",
    "    pred_polys = pred_df[pred_df['image_id'] == image_id]['xy'].apply(parse_xy).tolist()\n",
    "    \n",
    "    matched_gt = set()\n",
    "    matched_pred = set()\n",
    "    \n",
    "    for pred_idx, pred_poly in enumerate(pred_polys):\n",
    "        found_match = False\n",
    "        for gt_idx, gt_poly in enumerate(gt_polys):\n",
    "            if gt_idx in matched_gt:\n",
    "                continue\n",
    "            if iou(pred_poly, gt_poly) >= IOU_THRESHOLD:\n",
    "                TP += 1\n",
    "                matched_gt.add(gt_idx)\n",
    "                matched_pred.add(pred_idx)\n",
    "                found_match = True\n",
    "                break\n",
    "        if not found_match:\n",
    "            FP += 1\n",
    "    FN += len(gt_polys) - len(matched_gt)"
   ]
  },
  {
   "cell_type": "code",
   "execution_count": null,
   "id": "aa420f68-6164-4520-8f3b-4af31c2b7791",
   "metadata": {},
   "outputs": [],
   "source": [
    "precision = TP / (TP + FP) if (TP + FP) > 0 else 0\n",
    "recall = TP / (TP + FN) if (TP + FN) > 0 else 0\n",
    "f1 = 2 * precision * recall / (precision + recall) if (precision + recall) > 0 else 0"
   ]
  },
  {
   "cell_type": "code",
   "execution_count": null,
   "id": "bd082075-49ee-4b27-b94d-f746a8491fae",
   "metadata": {},
   "outputs": [],
   "source": [
    "print(f\"Precision: {precision:.3f}\")\n",
    "print(f\"Recall: {recall:.3f}\")\n",
    "print(f\"F1-score: {f1:.3f}\")"
   ]
  },
  {
   "cell_type": "markdown",
   "id": "2060ab08-677d-429a-8f36-6ee438e4ad98",
   "metadata": {},
   "source": [
    "# New Implementation - Calculate standard metrics\n",
    "**Confidence Value is the threshold value when accounting for TP, FP and FN**"
   ]
  },
  {
   "cell_type": "code",
   "execution_count": 1,
   "id": "ff6c5418-bcd1-458f-bb1e-37e090714a9d",
   "metadata": {},
   "outputs": [],
   "source": [
    "# Load the required libraries \n",
    "import ast\n",
    "import pandas as pd\n",
    "import numpy as np\n",
    "from shapely.geometry import Polygon\n",
    "from matplotlib import pyplot as plt\n",
    "import seaborn as sns \n",
    "import warnings\n",
    "\n",
    "warnings.filterwarnings(\"ignore\")\n",
    "sns.set()\n",
    "%matplotlib inline"
   ]
  },
  {
   "cell_type": "code",
   "execution_count": 2,
   "id": "14ecfe5f-a130-4885-81a9-be7064b6f343",
   "metadata": {},
   "outputs": [],
   "source": [
    "# Load the cleaned CSVs\n",
    "anno_df = pd.read_csv('../data/clean-data/anno_df_clean.csv')   # Manual annotations\n",
    "pred_df = pd.read_csv('../data/clean-data/pred_df_clean.csv')   # Model predictions"
   ]
  },
  {
   "cell_type": "code",
   "execution_count": 3,
   "id": "e40c6561-2019-4760-ae94-41d7f662f5ce",
   "metadata": {},
   "outputs": [
    {
     "data": {
      "text/html": [
       "<div>\n",
       "<style scoped>\n",
       "    .dataframe tbody tr th:only-of-type {\n",
       "        vertical-align: middle;\n",
       "    }\n",
       "\n",
       "    .dataframe tbody tr th {\n",
       "        vertical-align: top;\n",
       "    }\n",
       "\n",
       "    .dataframe thead th {\n",
       "        text-align: right;\n",
       "    }\n",
       "</style>\n",
       "<table border=\"1\" class=\"dataframe\">\n",
       "  <thead>\n",
       "    <tr style=\"text-align: right;\">\n",
       "      <th></th>\n",
       "      <th>image_id</th>\n",
       "      <th>prediction_id</th>\n",
       "      <th>confidence</th>\n",
       "      <th>polygon_id</th>\n",
       "      <th>xy</th>\n",
       "    </tr>\n",
       "  </thead>\n",
       "  <tbody>\n",
       "    <tr>\n",
       "      <th>0</th>\n",
       "      <td>3165</td>\n",
       "      <td>23699</td>\n",
       "      <td>0.431523</td>\n",
       "      <td>1937097</td>\n",
       "      <td>37.578460693359375,13.887542724609375,37.31016...</td>\n",
       "    </tr>\n",
       "    <tr>\n",
       "      <th>1</th>\n",
       "      <td>3165</td>\n",
       "      <td>23699</td>\n",
       "      <td>0.603884</td>\n",
       "      <td>1937098</td>\n",
       "      <td>231.45407104492188,9.646164820744442,225.45407...</td>\n",
       "    </tr>\n",
       "    <tr>\n",
       "      <th>2</th>\n",
       "      <td>3165</td>\n",
       "      <td>23699</td>\n",
       "      <td>0.244653</td>\n",
       "      <td>1937099</td>\n",
       "      <td>318.3146711077009,33.736045837402344,316.76688...</td>\n",
       "    </tr>\n",
       "    <tr>\n",
       "      <th>3</th>\n",
       "      <td>3165</td>\n",
       "      <td>23699</td>\n",
       "      <td>0.916268</td>\n",
       "      <td>1937100</td>\n",
       "      <td>395.9158020019531,82.97906857445126,387.915802...</td>\n",
       "    </tr>\n",
       "    <tr>\n",
       "      <th>4</th>\n",
       "      <td>3165</td>\n",
       "      <td>23699</td>\n",
       "      <td>0.366087</td>\n",
       "      <td>1937101</td>\n",
       "      <td>337.0517883300781,84.71218928584346,332.051788...</td>\n",
       "    </tr>\n",
       "  </tbody>\n",
       "</table>\n",
       "</div>"
      ],
      "text/plain": [
       "   image_id  prediction_id  confidence  polygon_id  \\\n",
       "0      3165          23699    0.431523     1937097   \n",
       "1      3165          23699    0.603884     1937098   \n",
       "2      3165          23699    0.244653     1937099   \n",
       "3      3165          23699    0.916268     1937100   \n",
       "4      3165          23699    0.366087     1937101   \n",
       "\n",
       "                                                  xy  \n",
       "0  37.578460693359375,13.887542724609375,37.31016...  \n",
       "1  231.45407104492188,9.646164820744442,225.45407...  \n",
       "2  318.3146711077009,33.736045837402344,316.76688...  \n",
       "3  395.9158020019531,82.97906857445126,387.915802...  \n",
       "4  337.0517883300781,84.71218928584346,332.051788...  "
      ]
     },
     "execution_count": 3,
     "metadata": {},
     "output_type": "execute_result"
    }
   ],
   "source": [
    "# Keep only predictions for images that have manual annotations\n",
    "filtered_pred_df = pred_df[pred_df['image_id'].isin(anno_df['image_id'])]\n",
    "\n",
    "filtered_pred_df.head()"
   ]
  },
  {
   "cell_type": "code",
   "execution_count": 4,
   "id": "6bcdc4b6-beb7-4332-905d-2ebb72275951",
   "metadata": {},
   "outputs": [
    {
     "data": {
      "text/html": [
       "<div>\n",
       "<style scoped>\n",
       "    .dataframe tbody tr th:only-of-type {\n",
       "        vertical-align: middle;\n",
       "    }\n",
       "\n",
       "    .dataframe tbody tr th {\n",
       "        vertical-align: top;\n",
       "    }\n",
       "\n",
       "    .dataframe thead th {\n",
       "        text-align: right;\n",
       "    }\n",
       "</style>\n",
       "<table border=\"1\" class=\"dataframe\">\n",
       "  <thead>\n",
       "    <tr style=\"text-align: right;\">\n",
       "      <th></th>\n",
       "      <th>filename</th>\n",
       "      <th>image_id</th>\n",
       "      <th>id</th>\n",
       "      <th>xy</th>\n",
       "      <th>x</th>\n",
       "      <th>y</th>\n",
       "    </tr>\n",
       "  </thead>\n",
       "  <tbody>\n",
       "    <tr>\n",
       "      <th>0</th>\n",
       "      <td>1g_04.png</td>\n",
       "      <td>624</td>\n",
       "      <td>175683</td>\n",
       "      <td>1354,1377.48,1330.52,1389.22,1330.52,1412.699,...</td>\n",
       "      <td>[1354.0, 1330.52, 1330.52, 1350.087, 1357.913,...</td>\n",
       "      <td>[1377.48, 1389.22, 1412.699, 1424.439, 1420.52...</td>\n",
       "    </tr>\n",
       "    <tr>\n",
       "      <th>1</th>\n",
       "      <td>1g_04.png</td>\n",
       "      <td>624</td>\n",
       "      <td>175664</td>\n",
       "      <td>223.058,1804.029,199.578,1800.116,191.751,1815...</td>\n",
       "      <td>[223.058, 199.578, 191.751, 203.491, 223.058, ...</td>\n",
       "      <td>[1804.029, 1800.116, 1815.769, 1831.422, 1835....</td>\n",
       "    </tr>\n",
       "    <tr>\n",
       "      <th>2</th>\n",
       "      <td>1g_04.png</td>\n",
       "      <td>624</td>\n",
       "      <td>175634</td>\n",
       "      <td>1549.665,1005.717,1545.751,1013.543,1541.838,1...</td>\n",
       "      <td>[1549.665, 1545.751, 1541.838, 1541.838, 1557....</td>\n",
       "      <td>[1005.717, 1013.543, 1021.37, 1037.023, 1037.0...</td>\n",
       "    </tr>\n",
       "    <tr>\n",
       "      <th>3</th>\n",
       "      <td>1g_04.png</td>\n",
       "      <td>624</td>\n",
       "      <td>175654</td>\n",
       "      <td>661.347,1678.803,637.867,1667.064,614.387,1674...</td>\n",
       "      <td>[661.347, 637.867, 614.387, 622.214, 630.04, 6...</td>\n",
       "      <td>[1678.803, 1667.064, 1674.89, 1698.37, 1694.45...</td>\n",
       "    </tr>\n",
       "    <tr>\n",
       "      <th>4</th>\n",
       "      <td>1g_04.png</td>\n",
       "      <td>624</td>\n",
       "      <td>175633</td>\n",
       "      <td>1784.462,1897.948,1796.202,1886.208,1804.029,1...</td>\n",
       "      <td>[1784.462, 1796.202, 1804.029, 1780.549, 1772....</td>\n",
       "      <td>[1897.948, 1886.208, 1870.555, 1858.815, 1862....</td>\n",
       "    </tr>\n",
       "  </tbody>\n",
       "</table>\n",
       "</div>"
      ],
      "text/plain": [
       "    filename  image_id      id  \\\n",
       "0  1g_04.png       624  175683   \n",
       "1  1g_04.png       624  175664   \n",
       "2  1g_04.png       624  175634   \n",
       "3  1g_04.png       624  175654   \n",
       "4  1g_04.png       624  175633   \n",
       "\n",
       "                                                  xy  \\\n",
       "0  1354,1377.48,1330.52,1389.22,1330.52,1412.699,...   \n",
       "1  223.058,1804.029,199.578,1800.116,191.751,1815...   \n",
       "2  1549.665,1005.717,1545.751,1013.543,1541.838,1...   \n",
       "3  661.347,1678.803,637.867,1667.064,614.387,1674...   \n",
       "4  1784.462,1897.948,1796.202,1886.208,1804.029,1...   \n",
       "\n",
       "                                                   x  \\\n",
       "0  [1354.0, 1330.52, 1330.52, 1350.087, 1357.913,...   \n",
       "1  [223.058, 199.578, 191.751, 203.491, 223.058, ...   \n",
       "2  [1549.665, 1545.751, 1541.838, 1541.838, 1557....   \n",
       "3  [661.347, 637.867, 614.387, 622.214, 630.04, 6...   \n",
       "4  [1784.462, 1796.202, 1804.029, 1780.549, 1772....   \n",
       "\n",
       "                                                   y  \n",
       "0  [1377.48, 1389.22, 1412.699, 1424.439, 1420.52...  \n",
       "1  [1804.029, 1800.116, 1815.769, 1831.422, 1835....  \n",
       "2  [1005.717, 1013.543, 1021.37, 1037.023, 1037.0...  \n",
       "3  [1678.803, 1667.064, 1674.89, 1698.37, 1694.45...  \n",
       "4  [1897.948, 1886.208, 1870.555, 1858.815, 1862....  "
      ]
     },
     "execution_count": 4,
     "metadata": {},
     "output_type": "execute_result"
    }
   ],
   "source": [
    "anno_df.head()"
   ]
  },
  {
   "cell_type": "code",
   "execution_count": 5,
   "id": "45ca67f6-ba2c-446a-96cf-fd49d96e6f19",
   "metadata": {},
   "outputs": [
    {
     "data": {
      "text/html": [
       "<div>\n",
       "<style scoped>\n",
       "    .dataframe tbody tr th:only-of-type {\n",
       "        vertical-align: middle;\n",
       "    }\n",
       "\n",
       "    .dataframe tbody tr th {\n",
       "        vertical-align: top;\n",
       "    }\n",
       "\n",
       "    .dataframe thead th {\n",
       "        text-align: right;\n",
       "    }\n",
       "</style>\n",
       "<table border=\"1\" class=\"dataframe\">\n",
       "  <thead>\n",
       "    <tr style=\"text-align: right;\">\n",
       "      <th></th>\n",
       "      <th>image_id</th>\n",
       "      <th>id</th>\n",
       "      <th>xy</th>\n",
       "    </tr>\n",
       "  </thead>\n",
       "  <tbody>\n",
       "    <tr>\n",
       "      <th>0</th>\n",
       "      <td>624</td>\n",
       "      <td>175683</td>\n",
       "      <td>1354,1377.48,1330.52,1389.22,1330.52,1412.699,...</td>\n",
       "    </tr>\n",
       "    <tr>\n",
       "      <th>1</th>\n",
       "      <td>624</td>\n",
       "      <td>175664</td>\n",
       "      <td>223.058,1804.029,199.578,1800.116,191.751,1815...</td>\n",
       "    </tr>\n",
       "    <tr>\n",
       "      <th>2</th>\n",
       "      <td>624</td>\n",
       "      <td>175634</td>\n",
       "      <td>1549.665,1005.717,1545.751,1013.543,1541.838,1...</td>\n",
       "    </tr>\n",
       "    <tr>\n",
       "      <th>3</th>\n",
       "      <td>624</td>\n",
       "      <td>175654</td>\n",
       "      <td>661.347,1678.803,637.867,1667.064,614.387,1674...</td>\n",
       "    </tr>\n",
       "    <tr>\n",
       "      <th>4</th>\n",
       "      <td>624</td>\n",
       "      <td>175633</td>\n",
       "      <td>1784.462,1897.948,1796.202,1886.208,1804.029,1...</td>\n",
       "    </tr>\n",
       "  </tbody>\n",
       "</table>\n",
       "</div>"
      ],
      "text/plain": [
       "   image_id      id                                                 xy\n",
       "0       624  175683  1354,1377.48,1330.52,1389.22,1330.52,1412.699,...\n",
       "1       624  175664  223.058,1804.029,199.578,1800.116,191.751,1815...\n",
       "2       624  175634  1549.665,1005.717,1545.751,1013.543,1541.838,1...\n",
       "3       624  175654  661.347,1678.803,637.867,1667.064,614.387,1674...\n",
       "4       624  175633  1784.462,1897.948,1796.202,1886.208,1804.029,1..."
      ]
     },
     "execution_count": 5,
     "metadata": {},
     "output_type": "execute_result"
    }
   ],
   "source": [
    "# Get the features that will matter from the manual \n",
    "anno_df = anno_df[['image_id', 'id', 'xy']]\n",
    "anno_df.head()"
   ]
  },
  {
   "cell_type": "code",
   "execution_count": 6,
   "id": "7b905a3e-76ba-48cb-bf71-455d3eaf72fc",
   "metadata": {},
   "outputs": [
    {
     "data": {
      "text/html": [
       "<div>\n",
       "<style scoped>\n",
       "    .dataframe tbody tr th:only-of-type {\n",
       "        vertical-align: middle;\n",
       "    }\n",
       "\n",
       "    .dataframe tbody tr th {\n",
       "        vertical-align: top;\n",
       "    }\n",
       "\n",
       "    .dataframe thead th {\n",
       "        text-align: right;\n",
       "    }\n",
       "</style>\n",
       "<table border=\"1\" class=\"dataframe\">\n",
       "  <thead>\n",
       "    <tr style=\"text-align: right;\">\n",
       "      <th></th>\n",
       "      <th>image_id</th>\n",
       "      <th>id</th>\n",
       "      <th>xy_manual</th>\n",
       "      <th>prediction_id</th>\n",
       "      <th>confidence</th>\n",
       "      <th>polygon_id</th>\n",
       "      <th>xy_predicted</th>\n",
       "    </tr>\n",
       "  </thead>\n",
       "  <tbody>\n",
       "    <tr>\n",
       "      <th>0</th>\n",
       "      <td>624</td>\n",
       "      <td>175683</td>\n",
       "      <td>1354,1377.48,1330.52,1389.22,1330.52,1412.699,...</td>\n",
       "      <td>23746</td>\n",
       "      <td>0.459061</td>\n",
       "      <td>1943470</td>\n",
       "      <td>529.6653366088867,394.1354550962095,522.665336...</td>\n",
       "    </tr>\n",
       "    <tr>\n",
       "      <th>1</th>\n",
       "      <td>624</td>\n",
       "      <td>175683</td>\n",
       "      <td>1354,1377.48,1330.52,1389.22,1330.52,1412.699,...</td>\n",
       "      <td>23746</td>\n",
       "      <td>0.862112</td>\n",
       "      <td>1943471</td>\n",
       "      <td>564.6947244497446,1107.9412689208984,556.54087...</td>\n",
       "    </tr>\n",
       "    <tr>\n",
       "      <th>2</th>\n",
       "      <td>624</td>\n",
       "      <td>175683</td>\n",
       "      <td>1354,1377.48,1330.52,1389.22,1330.52,1412.699,...</td>\n",
       "      <td>23746</td>\n",
       "      <td>0.455114</td>\n",
       "      <td>1943472</td>\n",
       "      <td>548.7361194776452,1158.1390075683594,550.40501...</td>\n",
       "    </tr>\n",
       "    <tr>\n",
       "      <th>3</th>\n",
       "      <td>624</td>\n",
       "      <td>175683</td>\n",
       "      <td>1354,1377.48,1330.52,1389.22,1330.52,1412.699,...</td>\n",
       "      <td>23746</td>\n",
       "      <td>0.256400</td>\n",
       "      <td>1943473</td>\n",
       "      <td>524.8235282897949,1337.475,535.8235282897949,1...</td>\n",
       "    </tr>\n",
       "    <tr>\n",
       "      <th>4</th>\n",
       "      <td>624</td>\n",
       "      <td>175683</td>\n",
       "      <td>1354,1377.48,1330.52,1389.22,1330.52,1412.699,...</td>\n",
       "      <td>23746</td>\n",
       "      <td>0.725020</td>\n",
       "      <td>1943474</td>\n",
       "      <td>506.43187522888184,1372.9502636137463,500.7483...</td>\n",
       "    </tr>\n",
       "  </tbody>\n",
       "</table>\n",
       "</div>"
      ],
      "text/plain": [
       "   image_id      id                                          xy_manual  \\\n",
       "0       624  175683  1354,1377.48,1330.52,1389.22,1330.52,1412.699,...   \n",
       "1       624  175683  1354,1377.48,1330.52,1389.22,1330.52,1412.699,...   \n",
       "2       624  175683  1354,1377.48,1330.52,1389.22,1330.52,1412.699,...   \n",
       "3       624  175683  1354,1377.48,1330.52,1389.22,1330.52,1412.699,...   \n",
       "4       624  175683  1354,1377.48,1330.52,1389.22,1330.52,1412.699,...   \n",
       "\n",
       "   prediction_id  confidence  polygon_id  \\\n",
       "0          23746    0.459061     1943470   \n",
       "1          23746    0.862112     1943471   \n",
       "2          23746    0.455114     1943472   \n",
       "3          23746    0.256400     1943473   \n",
       "4          23746    0.725020     1943474   \n",
       "\n",
       "                                        xy_predicted  \n",
       "0  529.6653366088867,394.1354550962095,522.665336...  \n",
       "1  564.6947244497446,1107.9412689208984,556.54087...  \n",
       "2  548.7361194776452,1158.1390075683594,550.40501...  \n",
       "3  524.8235282897949,1337.475,535.8235282897949,1...  \n",
       "4  506.43187522888184,1372.9502636137463,500.7483...  "
      ]
     },
     "execution_count": 6,
     "metadata": {},
     "output_type": "execute_result"
    }
   ],
   "source": [
    "# Merge on 'image_id' to pair manual and predicted for each image\n",
    "merged_df = pd.merge(\n",
    "    anno_df, filtered_pred_df,\n",
    "    on='image_id',\n",
    "    suffixes=('_manual', '_predicted')\n",
    ")\n",
    "\n",
    "# Preview the edits \n",
    "merged_df.head()"
   ]
  },
  {
   "cell_type": "code",
   "execution_count": 7,
   "id": "0ede1816-d101-444f-a9ee-f3901112a76d",
   "metadata": {},
   "outputs": [
    {
     "data": {
      "text/plain": [
       "(695494, 7)"
      ]
     },
     "execution_count": 7,
     "metadata": {},
     "output_type": "execute_result"
    }
   ],
   "source": [
    "merged_df.shape"
   ]
  },
  {
   "cell_type": "code",
   "execution_count": 8,
   "id": "6f700039-9781-49bb-b742-192ca0a073cc",
   "metadata": {},
   "outputs": [
    {
     "data": {
      "text/html": [
       "<div>\n",
       "<style scoped>\n",
       "    .dataframe tbody tr th:only-of-type {\n",
       "        vertical-align: middle;\n",
       "    }\n",
       "\n",
       "    .dataframe tbody tr th {\n",
       "        vertical-align: top;\n",
       "    }\n",
       "\n",
       "    .dataframe thead th {\n",
       "        text-align: right;\n",
       "    }\n",
       "</style>\n",
       "<table border=\"1\" class=\"dataframe\">\n",
       "  <thead>\n",
       "    <tr style=\"text-align: right;\">\n",
       "      <th></th>\n",
       "      <th>image_id</th>\n",
       "      <th>id</th>\n",
       "      <th>xy_manual</th>\n",
       "      <th>prediction_id</th>\n",
       "      <th>confidence</th>\n",
       "      <th>polygon_id</th>\n",
       "      <th>xy_predicted</th>\n",
       "    </tr>\n",
       "  </thead>\n",
       "  <tbody>\n",
       "    <tr>\n",
       "      <th>0</th>\n",
       "      <td>624</td>\n",
       "      <td>175683</td>\n",
       "      <td>[(1354, 1377.48), (1330.52, 1389.22), (1330.52...</td>\n",
       "      <td>23746</td>\n",
       "      <td>0.459061</td>\n",
       "      <td>1943470</td>\n",
       "      <td>[(529.6653366088867, 394.1354550962095), (522....</td>\n",
       "    </tr>\n",
       "    <tr>\n",
       "      <th>1</th>\n",
       "      <td>624</td>\n",
       "      <td>175683</td>\n",
       "      <td>[(1354, 1377.48), (1330.52, 1389.22), (1330.52...</td>\n",
       "      <td>23746</td>\n",
       "      <td>0.862112</td>\n",
       "      <td>1943471</td>\n",
       "      <td>[(564.6947244497446, 1107.9412689208984), (556...</td>\n",
       "    </tr>\n",
       "    <tr>\n",
       "      <th>2</th>\n",
       "      <td>624</td>\n",
       "      <td>175683</td>\n",
       "      <td>[(1354, 1377.48), (1330.52, 1389.22), (1330.52...</td>\n",
       "      <td>23746</td>\n",
       "      <td>0.455114</td>\n",
       "      <td>1943472</td>\n",
       "      <td>[(548.7361194776452, 1158.1390075683594), (550...</td>\n",
       "    </tr>\n",
       "    <tr>\n",
       "      <th>3</th>\n",
       "      <td>624</td>\n",
       "      <td>175683</td>\n",
       "      <td>[(1354, 1377.48), (1330.52, 1389.22), (1330.52...</td>\n",
       "      <td>23746</td>\n",
       "      <td>0.256400</td>\n",
       "      <td>1943473</td>\n",
       "      <td>[(524.8235282897949, 1337.475), (535.823528289...</td>\n",
       "    </tr>\n",
       "    <tr>\n",
       "      <th>4</th>\n",
       "      <td>624</td>\n",
       "      <td>175683</td>\n",
       "      <td>[(1354, 1377.48), (1330.52, 1389.22), (1330.52...</td>\n",
       "      <td>23746</td>\n",
       "      <td>0.725020</td>\n",
       "      <td>1943474</td>\n",
       "      <td>[(506.43187522888184, 1372.9502636137463), (50...</td>\n",
       "    </tr>\n",
       "  </tbody>\n",
       "</table>\n",
       "</div>"
      ],
      "text/plain": [
       "   image_id      id                                          xy_manual  \\\n",
       "0       624  175683  [(1354, 1377.48), (1330.52, 1389.22), (1330.52...   \n",
       "1       624  175683  [(1354, 1377.48), (1330.52, 1389.22), (1330.52...   \n",
       "2       624  175683  [(1354, 1377.48), (1330.52, 1389.22), (1330.52...   \n",
       "3       624  175683  [(1354, 1377.48), (1330.52, 1389.22), (1330.52...   \n",
       "4       624  175683  [(1354, 1377.48), (1330.52, 1389.22), (1330.52...   \n",
       "\n",
       "   prediction_id  confidence  polygon_id  \\\n",
       "0          23746    0.459061     1943470   \n",
       "1          23746    0.862112     1943471   \n",
       "2          23746    0.455114     1943472   \n",
       "3          23746    0.256400     1943473   \n",
       "4          23746    0.725020     1943474   \n",
       "\n",
       "                                        xy_predicted  \n",
       "0  [(529.6653366088867, 394.1354550962095), (522....  \n",
       "1  [(564.6947244497446, 1107.9412689208984), (556...  \n",
       "2  [(548.7361194776452, 1158.1390075683594), (550...  \n",
       "3  [(524.8235282897949, 1337.475), (535.823528289...  \n",
       "4  [(506.43187522888184, 1372.9502636137463), (50...  "
      ]
     },
     "execution_count": 8,
     "metadata": {},
     "output_type": "execute_result"
    }
   ],
   "source": [
    "# Pair the xy coordinates for shapely \n",
    "\n",
    "def parse_xy(xy_str):\n",
    "    # If already a list, return as is\n",
    "    if isinstance(xy_str, list):\n",
    "        return xy_str\n",
    "    # If string, parse to list of tuples\n",
    "    coords = ast.literal_eval(xy_str) if isinstance(xy_str, str) else xy_str\n",
    "    # If flat list, pair into tuples\n",
    "    if coords and isinstance(coords[0], (int, float)):\n",
    "        return [(coords[i], coords[i+1]) for i in range(0, len(coords), 2)]\n",
    "    return coords\n",
    "\n",
    "merged_df['xy_manual'] = merged_df['xy_manual'].apply(parse_xy)\n",
    "merged_df['xy_predicted'] = merged_df['xy_predicted'].apply(parse_xy)\n",
    "\n",
    "# Preview the edits \n",
    "merged_df.head()"
   ]
  },
  {
   "cell_type": "code",
   "execution_count": null,
   "id": "c078bce0-6917-4fd7-9164-4333c569fa52",
   "metadata": {},
   "outputs": [],
   "source": []
  },
  {
   "cell_type": "markdown",
   "id": "0af3c057-b384-4c41-a343-c69e4e59d86d",
   "metadata": {},
   "source": [
    "++++++++++++++++++++++++++++++++++++++++++++++++++++++++++++++++++++++++++++++++++++++++++++++++++"
   ]
  },
  {
   "cell_type": "code",
   "execution_count": 9,
   "id": "ca443a08-4c21-4b10-b49f-dbbc8f57c99d",
   "metadata": {},
   "outputs": [],
   "source": [
    "# # Compute Intersection union from the polygon coordinates \n",
    "\n",
    "# def compute_iou(row):\n",
    "#     poly_manual = Polygon(row['xy_manual'])\n",
    "#     poly_pred = Polygon(row['xy_predicted'])\n",
    "#     if not poly_manual.is_valid or not poly_pred.is_valid:\n",
    "#         return 0.0\n",
    "#     intersection = poly_manual.intersection(poly_pred).area\n",
    "#     union = poly_manual.union(poly_pred).area\n",
    "#     return intersection / union if union > 0 else 0.0\n",
    "\n",
    "# merged_df['iou'] = merged_df.apply(compute_iou, axis=1)\n",
    "# merged_df.head()"
   ]
  },
  {
   "cell_type": "code",
   "execution_count": 10,
   "id": "d2359639-a8b9-43ea-9a86-c705ef65e346",
   "metadata": {},
   "outputs": [],
   "source": [
    "# # Manual computation \n",
    "\n",
    "# ## extract the first row\n",
    "# poly_manual = Polygon(merged_df['xy_manual'][0])\n",
    "# poly_manual"
   ]
  },
  {
   "cell_type": "code",
   "execution_count": 11,
   "id": "3378ce14-7bf9-477c-a3fd-63a548123886",
   "metadata": {},
   "outputs": [],
   "source": [
    "# poly_pred = Polygon(merged_df['xy_predicted'][0])\n",
    "# poly_pred"
   ]
  },
  {
   "cell_type": "code",
   "execution_count": 12,
   "id": "8093cc54-284c-4b83-9fd6-565e3a43faa6",
   "metadata": {},
   "outputs": [],
   "source": [
    "# intersection = poly_manual.intersection(poly_pred).area\n",
    "# intersection"
   ]
  },
  {
   "cell_type": "markdown",
   "id": "84674f99-42a0-42b1-a7c7-776984d2d010",
   "metadata": {},
   "source": [
    "+++++++++++++++++++++++++++++++++++++++++++++++++++++++++++++++++++++++++++++++++++++++++++++++++++++++"
   ]
  },
  {
   "cell_type": "code",
   "execution_count": 13,
   "id": "62cfde00-0019-4290-9187-bad11a18c580",
   "metadata": {},
   "outputs": [
    {
     "name": "stdout",
     "output_type": "stream",
     "text": [
      "IoU between the two polygons: 0.14285714285714285\n",
      "IoU between non-overlapping polygons: 0.0\n"
     ]
    }
   ],
   "source": [
    "from shapely.geometry import Polygon\n",
    "\n",
    "def calculate_polygon_iou(polygon1_coords, polygon2_coords):\n",
    "    \"\"\"\n",
    "    Calculates the Intersection over Union (IoU) of two polygons.\n",
    "\n",
    "    Args:\n",
    "        polygon1_coords (list of tuples): A list of (x, y) coordinates\n",
    "                                          representing the vertices of the first polygon.\n",
    "        polygon2_coords (list of tuples): A list of (x, y) coordinates\n",
    "                                          representing the vertices of the second polygon.\n",
    "\n",
    "    Returns:\n",
    "        float: The IoU value between the two polygons. Returns 0.0 if the union area is zero.\n",
    "    \"\"\"\n",
    "    # Create Shapely Polygon objects\n",
    "    polygon1 = Polygon(polygon1_coords)\n",
    "    polygon2 = Polygon(polygon2_coords)\n",
    "\n",
    "    # Check polygon validity and fix \n",
    "    if polygon1.is_valid==False: \n",
    "        polygon1 = polygon1.buffer(0)\n",
    "    else: \n",
    "        pass\n",
    "\n",
    "    if polygon2.is_valid==False: \n",
    "        polygon2 = polygon2.buffer(0)\n",
    "    else: \n",
    "        pass\n",
    "\n",
    "    # Calculate the intersection area\n",
    "    intersection_area = polygon1.intersection(polygon2).area\n",
    "\n",
    "    # Calculate the union area\n",
    "    union_area = polygon1.union(polygon2).area\n",
    "\n",
    "    # Calculate IoU\n",
    "    if union_area > 0:\n",
    "        iou = intersection_area / union_area\n",
    "    else:\n",
    "        iou = 0.0  # Avoid division by zero if polygons don't overlap and have no area\n",
    "\n",
    "    return iou\n",
    "\n",
    "# Example Usage:\n",
    "# Define polygon coordinates\n",
    "poly1_coords = [(0, 0), (0, 2), (2, 2), (2, 0)]  # A square\n",
    "poly2_coords = [(1, 1), (1, 3), (3, 3), (3, 1)]  # Another square, overlapping\n",
    "\n",
    "iou_value = calculate_polygon_iou(poly1_coords, poly2_coords)\n",
    "print(f\"IoU between the two polygons: {iou_value}\")\n",
    "\n",
    "# Example with non-overlapping polygons\n",
    "poly3_coords = [(0, 0), (0, 1), (1, 1), (1, 0)]\n",
    "poly4_coords = [(2, 2), (2, 3), (3, 3), (3, 2)]\n",
    "\n",
    "iou_non_overlapping = calculate_polygon_iou(poly3_coords, poly4_coords)\n",
    "print(f\"IoU between non-overlapping polygons: {iou_non_overlapping}\")"
   ]
  },
  {
   "cell_type": "code",
   "execution_count": 14,
   "id": "9b80c46f-0c7e-46e3-b8b4-a409ea87f45e",
   "metadata": {},
   "outputs": [
    {
     "data": {
      "image/svg+xml": [
       "<svg xmlns=\"http://www.w3.org/2000/svg\" xmlns:xlink=\"http://www.w3.org/1999/xlink\" width=\"100.0\" height=\"100.0\" viewBox=\"605.46528 1176.80628 29.584439999999972 25.671440000000075\" preserveAspectRatio=\"xMinYMin meet\"><g transform=\"matrix(1,0,0,-1,0,2379.284)\"><path fill-rule=\"evenodd\" fill=\"#ff3333\" stroke=\"#555555\" stroke-width=\"0.5916887999999995\" opacity=\"0.6\" d=\"M 626.127,1201.382 L 633.954,1193.555 L 633.954,1181.815 L 630.04,1177.902 L 614.387,1177.902 L 606.561,1181.815 L 606.561,1193.555 L 610.474,1201.382 L 618.301,1201.382 L 626.127,1197.468 L 630.04,1201.382 L 626.127,1201.382 z\" /></g></svg>"
      ],
      "text/plain": [
       "<POLYGON ((626.127 1201.382, 633.954 1193.555, 633.954 1181.815, 630.04 1177...>"
      ]
     },
     "execution_count": 14,
     "metadata": {},
     "output_type": "execute_result"
    }
   ],
   "source": [
    "Polygon(merged_df[\"xy_manual\"][6372])"
   ]
  },
  {
   "cell_type": "code",
   "execution_count": 15,
   "id": "6c9a3ad5-f9ee-4dc9-9051-7aa8d4edb374",
   "metadata": {},
   "outputs": [
    {
     "data": {
      "image/svg+xml": [
       "<svg xmlns=\"http://www.w3.org/2000/svg\" xmlns:xlink=\"http://www.w3.org/1999/xlink\" width=\"100.0\" height=\"100.0\" viewBox=\"605.46528 1176.80628 29.584439999999972 25.671440000000075\" preserveAspectRatio=\"xMinYMin meet\"><g transform=\"matrix(1,0,0,-1,0,2379.284)\"><path fill-rule=\"evenodd\" fill=\"#66cc99\" stroke=\"#555555\" stroke-width=\"0.5916887999999995\" opacity=\"0.6\" d=\"M 628.0837499680592,1199.4252500319408 L 633.954,1193.555 L 633.954,1181.815 L 630.04,1177.902 L 614.387,1177.902 L 606.561,1181.815 L 606.561,1193.555 L 610.474,1201.382 L 618.301,1201.382 L 626.127,1197.468 L 628.0837499680592,1199.4252500319408 z\" /></g></svg>"
      ],
      "text/plain": [
       "<POLYGON ((628.084 1199.425, 633.954 1193.555, 633.954 1181.815, 630.04 1177...>"
      ]
     },
     "execution_count": 15,
     "metadata": {},
     "output_type": "execute_result"
    }
   ],
   "source": [
    "Polygon(merged_df[\"xy_manual\"][6372]).buffer(0)"
   ]
  },
  {
   "cell_type": "code",
   "execution_count": 16,
   "id": "6878dc28-e30f-4750-9d66-14a16fb2cb00",
   "metadata": {},
   "outputs": [
    {
     "data": {
      "image/svg+xml": [
       "<svg xmlns=\"http://www.w3.org/2000/svg\" xmlns:xlink=\"http://www.w3.org/1999/xlink\" width=\"100.0\" height=\"100.0\" viewBox=\"605.6262435633298 1176.5601773701676 29.213174872665604 28.946998988746145\" preserveAspectRatio=\"xMinYMin meet\"><g transform=\"matrix(1,0,0,-1,0,2382.0673537290813)\"><path fill-rule=\"evenodd\" fill=\"#66cc99\" stroke=\"#555555\" stroke-width=\"0.5842634974533121\" opacity=\"0.6\" d=\"M 614.9187393188477,1204.4088134765625 L 626.9187393188477,1204.4252069191855 L 633.3703522220735,1197.4088134765625 L 633.757448996267,1182.4088134765625 L 626.9187393188477,1177.6421468098958 L 610.9187393188477,1178.1360862038352 L 606.7082130030582,1185.4088134765625 L 607.9187393188477,1198.4088134765625 L 614.9187393188477,1204.4088134765625 z\" /></g></svg>"
      ],
      "text/plain": [
       "<POLYGON ((614.919 1204.409, 626.919 1204.425, 633.37 1197.409, 633.757 1182...>"
      ]
     },
     "execution_count": 16,
     "metadata": {},
     "output_type": "execute_result"
    }
   ],
   "source": [
    "Polygon(merged_df[\"xy_predicted\"][6372])"
   ]
  },
  {
   "cell_type": "code",
   "execution_count": 17,
   "id": "5da135e4-47d6-452b-a402-8961904627fa",
   "metadata": {
    "scrolled": true
   },
   "outputs": [
    {
     "name": "stdout",
     "output_type": "stream",
     "text": [
      "454361: not polygon\n",
      "454362: not polygon\n",
      "454363: not polygon\n",
      "454364: not polygon\n",
      "454365: not polygon\n",
      "454366: not polygon\n",
      "454367: not polygon\n",
      "454368: not polygon\n",
      "454369: not polygon\n",
      "454370: not polygon\n",
      "454371: not polygon\n",
      "454372: not polygon\n",
      "454373: not polygon\n",
      "454374: not polygon\n",
      "454375: not polygon\n",
      "454376: not polygon\n",
      "454377: not polygon\n",
      "454378: not polygon\n",
      "454379: not polygon\n",
      "454380: not polygon\n",
      "454381: not polygon\n",
      "454382: not polygon\n",
      "454383: not polygon\n",
      "454384: not polygon\n",
      "454385: not polygon\n",
      "Error count: 25\n"
     ]
    }
   ],
   "source": [
    "# Remove any errors in calculations \n",
    "\n",
    "iou_list = []\n",
    "\n",
    "error_count = 0\n",
    "\n",
    "# Iterate through every row in merged dataset \n",
    "for i in range(merged_df.shape[0]):\n",
    "    # Declare the coordinates\n",
    "    polygon1_coords = merged_df[\"xy_manual\"][i]\n",
    "    polygon2_coords = merged_df[\"xy_predicted\"][i]\n",
    "    # Calculate iou\n",
    "    try: \n",
    "        iou_value = calculate_polygon_iou(polygon1_coords, polygon2_coords)\n",
    "        iou_list.append(iou_value)\n",
    "    except ValueError: \n",
    "        print(f\"{i}: not polygon\")\n",
    "        error_count +=1\n",
    "\n",
    "        # Set iou to zero\n",
    "        iuo_value = 0\n",
    "        iou_list.append(iou_value)\n",
    "    # Catch future errors - self-intersecting polygon erros are fixed\n",
    "    except GEOSException as e:            \n",
    "        print(f\"GEOSException at index: {i}\")\n",
    "        error_count +=1\n",
    "        iou_value = 0\n",
    "        iou_list.append(iou_value)\n",
    "\n",
    "print(f\"Error count: {error_count}\")"
   ]
  },
  {
   "cell_type": "code",
   "execution_count": 18,
   "id": "792930e9-df2d-416a-adc3-fe6298d75324",
   "metadata": {},
   "outputs": [
    {
     "data": {
      "text/plain": [
       "[(632.526, 421.684)]"
      ]
     },
     "execution_count": 18,
     "metadata": {},
     "output_type": "execute_result"
    }
   ],
   "source": [
    "# Check one instance of \"not polygon!\"\n",
    "merged_df[\"xy_manual\"][454385]"
   ]
  },
  {
   "cell_type": "code",
   "execution_count": 19,
   "id": "809b1545-992c-405d-8a02-6c067e8aa4ac",
   "metadata": {},
   "outputs": [
    {
     "data": {
      "text/plain": [
       "691940"
      ]
     },
     "execution_count": 19,
     "metadata": {},
     "output_type": "execute_result"
    }
   ],
   "source": [
    "# find number of unmatched instances due to merging by image id\n",
    "iou_list.count(0)"
   ]
  },
  {
   "cell_type": "code",
   "execution_count": 20,
   "id": "81dd45de-cecf-40d7-ac2f-59adc68b1442",
   "metadata": {},
   "outputs": [
    {
     "data": {
      "text/plain": [
       "3554"
      ]
     },
     "execution_count": 20,
     "metadata": {},
     "output_type": "execute_result"
    }
   ],
   "source": [
    "# Find the count matched instances\n",
    "len(iou_list)-iou_list.count(0)"
   ]
  },
  {
   "cell_type": "code",
   "execution_count": 21,
   "id": "df817231-5db1-45a5-8b09-46d79fed5d5f",
   "metadata": {},
   "outputs": [
    {
     "data": {
      "text/html": [
       "<div>\n",
       "<style scoped>\n",
       "    .dataframe tbody tr th:only-of-type {\n",
       "        vertical-align: middle;\n",
       "    }\n",
       "\n",
       "    .dataframe tbody tr th {\n",
       "        vertical-align: top;\n",
       "    }\n",
       "\n",
       "    .dataframe thead th {\n",
       "        text-align: right;\n",
       "    }\n",
       "</style>\n",
       "<table border=\"1\" class=\"dataframe\">\n",
       "  <thead>\n",
       "    <tr style=\"text-align: right;\">\n",
       "      <th></th>\n",
       "      <th>image_id</th>\n",
       "      <th>id</th>\n",
       "      <th>xy_manual</th>\n",
       "      <th>prediction_id</th>\n",
       "      <th>confidence</th>\n",
       "      <th>polygon_id</th>\n",
       "      <th>xy_predicted</th>\n",
       "      <th>IoU</th>\n",
       "    </tr>\n",
       "  </thead>\n",
       "  <tbody>\n",
       "    <tr>\n",
       "      <th>0</th>\n",
       "      <td>624</td>\n",
       "      <td>175683</td>\n",
       "      <td>[(1354, 1377.48), (1330.52, 1389.22), (1330.52...</td>\n",
       "      <td>23746</td>\n",
       "      <td>0.932983</td>\n",
       "      <td>1943517</td>\n",
       "      <td>[(1328.6110534667969, 1405.1416015625), (1332....</td>\n",
       "      <td>0.891768</td>\n",
       "    </tr>\n",
       "    <tr>\n",
       "      <th>1</th>\n",
       "      <td>624</td>\n",
       "      <td>175664</td>\n",
       "      <td>[(223.058, 1804.029), (199.578, 1800.116), (19...</td>\n",
       "      <td>23746</td>\n",
       "      <td>0.626765</td>\n",
       "      <td>1943484</td>\n",
       "      <td>[(222.66780180089614, 1832.8301467895508), (22...</td>\n",
       "      <td>0.771366</td>\n",
       "    </tr>\n",
       "    <tr>\n",
       "      <th>2</th>\n",
       "      <td>624</td>\n",
       "      <td>175634</td>\n",
       "      <td>[(1549.665, 1005.717), (1545.751, 1013.543), (...</td>\n",
       "      <td>23746</td>\n",
       "      <td>0.863642</td>\n",
       "      <td>1943533</td>\n",
       "      <td>[(1545.576050652398, 1003.3963088989258), (153...</td>\n",
       "      <td>0.765831</td>\n",
       "    </tr>\n",
       "    <tr>\n",
       "      <th>3</th>\n",
       "      <td>624</td>\n",
       "      <td>175654</td>\n",
       "      <td>[(661.347, 1678.803), (637.867, 1667.064), (61...</td>\n",
       "      <td>23746</td>\n",
       "      <td>0.938495</td>\n",
       "      <td>1943522</td>\n",
       "      <td>[(643.3214721679688, 1633.8008189481848), (639...</td>\n",
       "      <td>0.505843</td>\n",
       "    </tr>\n",
       "    <tr>\n",
       "      <th>4</th>\n",
       "      <td>624</td>\n",
       "      <td>175633</td>\n",
       "      <td>[(1784.462, 1897.948), (1796.202, 1886.208), (...</td>\n",
       "      <td>23746</td>\n",
       "      <td>0.260624</td>\n",
       "      <td>1943544</td>\n",
       "      <td>[(1782.8247375488281, 1858.7501768224379), (17...</td>\n",
       "      <td>0.639641</td>\n",
       "    </tr>\n",
       "  </tbody>\n",
       "</table>\n",
       "</div>"
      ],
      "text/plain": [
       "   image_id      id                                          xy_manual  \\\n",
       "0       624  175683  [(1354, 1377.48), (1330.52, 1389.22), (1330.52...   \n",
       "1       624  175664  [(223.058, 1804.029), (199.578, 1800.116), (19...   \n",
       "2       624  175634  [(1549.665, 1005.717), (1545.751, 1013.543), (...   \n",
       "3       624  175654  [(661.347, 1678.803), (637.867, 1667.064), (61...   \n",
       "4       624  175633  [(1784.462, 1897.948), (1796.202, 1886.208), (...   \n",
       "\n",
       "   prediction_id  confidence  polygon_id  \\\n",
       "0          23746    0.932983     1943517   \n",
       "1          23746    0.626765     1943484   \n",
       "2          23746    0.863642     1943533   \n",
       "3          23746    0.938495     1943522   \n",
       "4          23746    0.260624     1943544   \n",
       "\n",
       "                                        xy_predicted       IoU  \n",
       "0  [(1328.6110534667969, 1405.1416015625), (1332....  0.891768  \n",
       "1  [(222.66780180089614, 1832.8301467895508), (22...  0.771366  \n",
       "2  [(1545.576050652398, 1003.3963088989258), (153...  0.765831  \n",
       "3  [(643.3214721679688, 1633.8008189481848), (639...  0.505843  \n",
       "4  [(1782.8247375488281, 1858.7501768224379), (17...  0.639641  "
      ]
     },
     "execution_count": 21,
     "metadata": {},
     "output_type": "execute_result"
    }
   ],
   "source": [
    "# add a new column of IoU  \n",
    "merged_df[\"IoU\"] = iou_list\n",
    "\n",
    "# drop all rows there Iou = 0 -- Unmatched instances\n",
    "df = merged_df[merged_df[\"IoU\"] != 0].reset_index(drop=True)\n",
    "df.head()"
   ]
  },
  {
   "cell_type": "code",
   "execution_count": 22,
   "id": "b039c2a4-7847-4456-a9d0-2db7a3c86b01",
   "metadata": {},
   "outputs": [
    {
     "data": {
      "text/plain": [
       "(3554, 8)"
      ]
     },
     "execution_count": 22,
     "metadata": {},
     "output_type": "execute_result"
    }
   ],
   "source": [
    "df.shape"
   ]
  },
  {
   "cell_type": "code",
   "execution_count": 23,
   "id": "270f1cda-459e-4e82-862d-1737330b9a42",
   "metadata": {},
   "outputs": [],
   "source": [
    "# Use the confidence value from the prediction as threshold\n",
    "df['tp'] = (df['IoU'] >= df['confidence']).astype(int)\n",
    "df['fp'] = (df['IoU'] < df['confidence']).astype(int)\n",
    "# For FN, you would need to check for manual annotations with no predictions (not in df)"
   ]
  },
  {
   "cell_type": "code",
   "execution_count": 24,
   "id": "de35ef40-5621-454e-a0d1-9d073b2558b0",
   "metadata": {},
   "outputs": [
    {
     "data": {
      "text/html": [
       "<div>\n",
       "<style scoped>\n",
       "    .dataframe tbody tr th:only-of-type {\n",
       "        vertical-align: middle;\n",
       "    }\n",
       "\n",
       "    .dataframe tbody tr th {\n",
       "        vertical-align: top;\n",
       "    }\n",
       "\n",
       "    .dataframe thead th {\n",
       "        text-align: right;\n",
       "    }\n",
       "</style>\n",
       "<table border=\"1\" class=\"dataframe\">\n",
       "  <thead>\n",
       "    <tr style=\"text-align: right;\">\n",
       "      <th></th>\n",
       "      <th>image_id</th>\n",
       "      <th>id</th>\n",
       "      <th>xy_manual</th>\n",
       "      <th>prediction_id</th>\n",
       "      <th>confidence</th>\n",
       "      <th>polygon_id</th>\n",
       "      <th>xy_predicted</th>\n",
       "      <th>IoU</th>\n",
       "      <th>tp</th>\n",
       "      <th>fp</th>\n",
       "    </tr>\n",
       "  </thead>\n",
       "  <tbody>\n",
       "    <tr>\n",
       "      <th>0</th>\n",
       "      <td>624</td>\n",
       "      <td>175683</td>\n",
       "      <td>[(1354, 1377.48), (1330.52, 1389.22), (1330.52...</td>\n",
       "      <td>23746</td>\n",
       "      <td>0.932983</td>\n",
       "      <td>1943517</td>\n",
       "      <td>[(1328.6110534667969, 1405.1416015625), (1332....</td>\n",
       "      <td>0.891768</td>\n",
       "      <td>0</td>\n",
       "      <td>1</td>\n",
       "    </tr>\n",
       "    <tr>\n",
       "      <th>1</th>\n",
       "      <td>624</td>\n",
       "      <td>175664</td>\n",
       "      <td>[(223.058, 1804.029), (199.578, 1800.116), (19...</td>\n",
       "      <td>23746</td>\n",
       "      <td>0.626765</td>\n",
       "      <td>1943484</td>\n",
       "      <td>[(222.66780180089614, 1832.8301467895508), (22...</td>\n",
       "      <td>0.771366</td>\n",
       "      <td>1</td>\n",
       "      <td>0</td>\n",
       "    </tr>\n",
       "    <tr>\n",
       "      <th>2</th>\n",
       "      <td>624</td>\n",
       "      <td>175634</td>\n",
       "      <td>[(1549.665, 1005.717), (1545.751, 1013.543), (...</td>\n",
       "      <td>23746</td>\n",
       "      <td>0.863642</td>\n",
       "      <td>1943533</td>\n",
       "      <td>[(1545.576050652398, 1003.3963088989258), (153...</td>\n",
       "      <td>0.765831</td>\n",
       "      <td>0</td>\n",
       "      <td>1</td>\n",
       "    </tr>\n",
       "    <tr>\n",
       "      <th>3</th>\n",
       "      <td>624</td>\n",
       "      <td>175654</td>\n",
       "      <td>[(661.347, 1678.803), (637.867, 1667.064), (61...</td>\n",
       "      <td>23746</td>\n",
       "      <td>0.938495</td>\n",
       "      <td>1943522</td>\n",
       "      <td>[(643.3214721679688, 1633.8008189481848), (639...</td>\n",
       "      <td>0.505843</td>\n",
       "      <td>0</td>\n",
       "      <td>1</td>\n",
       "    </tr>\n",
       "    <tr>\n",
       "      <th>4</th>\n",
       "      <td>624</td>\n",
       "      <td>175633</td>\n",
       "      <td>[(1784.462, 1897.948), (1796.202, 1886.208), (...</td>\n",
       "      <td>23746</td>\n",
       "      <td>0.260624</td>\n",
       "      <td>1943544</td>\n",
       "      <td>[(1782.8247375488281, 1858.7501768224379), (17...</td>\n",
       "      <td>0.639641</td>\n",
       "      <td>1</td>\n",
       "      <td>0</td>\n",
       "    </tr>\n",
       "  </tbody>\n",
       "</table>\n",
       "</div>"
      ],
      "text/plain": [
       "   image_id      id                                          xy_manual  \\\n",
       "0       624  175683  [(1354, 1377.48), (1330.52, 1389.22), (1330.52...   \n",
       "1       624  175664  [(223.058, 1804.029), (199.578, 1800.116), (19...   \n",
       "2       624  175634  [(1549.665, 1005.717), (1545.751, 1013.543), (...   \n",
       "3       624  175654  [(661.347, 1678.803), (637.867, 1667.064), (61...   \n",
       "4       624  175633  [(1784.462, 1897.948), (1796.202, 1886.208), (...   \n",
       "\n",
       "   prediction_id  confidence  polygon_id  \\\n",
       "0          23746    0.932983     1943517   \n",
       "1          23746    0.626765     1943484   \n",
       "2          23746    0.863642     1943533   \n",
       "3          23746    0.938495     1943522   \n",
       "4          23746    0.260624     1943544   \n",
       "\n",
       "                                        xy_predicted       IoU  tp  fp  \n",
       "0  [(1328.6110534667969, 1405.1416015625), (1332....  0.891768   0   1  \n",
       "1  [(222.66780180089614, 1832.8301467895508), (22...  0.771366   1   0  \n",
       "2  [(1545.576050652398, 1003.3963088989258), (153...  0.765831   0   1  \n",
       "3  [(643.3214721679688, 1633.8008189481848), (639...  0.505843   0   1  \n",
       "4  [(1782.8247375488281, 1858.7501768224379), (17...  0.639641   1   0  "
      ]
     },
     "execution_count": 24,
     "metadata": {},
     "output_type": "execute_result"
    }
   ],
   "source": [
    "df.head()"
   ]
  },
  {
   "cell_type": "code",
   "execution_count": 25,
   "id": "120899a5-8645-40c6-b531-2d415d7e62c4",
   "metadata": {},
   "outputs": [
    {
     "name": "stdout",
     "output_type": "stream",
     "text": [
      "Precision: 0.440\n",
      "Recall: 0.943\n",
      "F1 Score: 0.600\n"
     ]
    }
   ],
   "source": [
    "# Sum up TP, FP\n",
    "TP = df['tp'].sum()\n",
    "FP = df['fp'].sum()\n",
    "# For FN, count manual annotations not matched (if needed)\n",
    "FN = len(anno_df) - len(df) # df contain all matched annotations \n",
    "\n",
    "precision = TP / (TP + FP) if (TP + FP) > 0 else 0\n",
    "recall = TP / (TP + FN) if (TP + FN) > 0 else 0\n",
    "f1 = 2 * precision * recall / (precision + recall) if (precision + recall) > 0 else 0\n",
    "\n",
    "print(f\"Precision: {precision:.3f}\")\n",
    "print(f\"Recall: {recall:.3f}\")\n",
    "print(f\"F1 Score: {f1:.3f}\")"
   ]
  },
  {
   "cell_type": "code",
   "execution_count": 26,
   "id": "5c4bf725-daf2-4940-8f7f-0a5ae260f5ae",
   "metadata": {},
   "outputs": [
    {
     "data": {
      "text/plain": [
       "94"
      ]
     },
     "execution_count": 26,
     "metadata": {},
     "output_type": "execute_result"
    }
   ],
   "source": [
    "FN = len(anno_df) - len(df)\n",
    "FN"
   ]
  },
  {
   "cell_type": "code",
   "execution_count": 27,
   "id": "72143931-79c9-4b4e-ab78-1a4421670cbd",
   "metadata": {},
   "outputs": [
    {
     "name": "stdout",
     "output_type": "stream",
     "text": [
      "Accuracy: 0.4282\n"
     ]
    }
   ],
   "source": [
    "# Calculate accuracy\n",
    "accuracy = (TP) / (TP  + FP + FN) # There is no True Negative in object detection using IoU\n",
    "print(f\"Accuracy: {accuracy:.4f}\")"
   ]
  },
  {
   "cell_type": "code",
   "execution_count": 28,
   "id": "f26e6edf-a728-4e6d-8405-e84c34d0f715",
   "metadata": {},
   "outputs": [],
   "source": [
    "# Save the dataset for error analysis\n",
    "df.to_csv(\"../data/df_with_metrics.csv\")"
   ]
  },
  {
   "cell_type": "markdown",
   "id": "bc9d12d0-7fb5-4059-b2f7-540c41d02fff",
   "metadata": {},
   "source": [
    "# Error Analysis\n"
   ]
  },
  {
   "cell_type": "markdown",
   "id": "0a55d5eb-979a-446c-a5a7-0501543736cc",
   "metadata": {},
   "source": [
    "**Distribution of IoU**"
   ]
  },
  {
   "cell_type": "code",
   "execution_count": 29,
   "id": "30ebfee4-0b3b-462e-b0f5-48291373e670",
   "metadata": {},
   "outputs": [
    {
     "data": {
      "image/png": "[encoded data removed]",
      "text/plain": [
       "<Figure size 640x480 with 1 Axes>"
      ]
     },
     "metadata": {},
     "output_type": "display_data"
    }
   ],
   "source": [
    "plt.title(\"Distribution of IoU\")\n",
    "sns.distplot(df['IoU'])\n",
    "plt.show()"
   ]
  },
  {
   "cell_type": "markdown",
   "id": "6e6618c4-3ca0-47e8-ab87-5ac6b239843e",
   "metadata": {},
   "source": [
    "Most IoU values are clustered around 0.7–0.85, meaning the system usually places bounding boxes close to ground truth.\n",
    "\n",
    "The spike at 0.0 suggests many false positives (detections with no matching ground truth).\n",
    "\n",
    "The long tail from 0.2–0.6 indicates localization errors (boxes overlap partially but not enough to count as correct).\n",
    "\n",
    "**Verdict:** The model is good at detecting objects when it finds them, but needs better filtering of false positives and tighter localization. "
   ]
  },
  {
   "cell_type": "markdown",
   "id": "d206c389-0ab6-45e8-9a37-fe4ee5a800c4",
   "metadata": {},
   "source": [
    "## Finding the Optimal Threshold"
   ]
  },
  {
   "cell_type": "markdown",
   "id": "924540c1-9c4e-45c6-9df4-29227041dbe8",
   "metadata": {
    "jp-MarkdownHeadingCollapsed": true
   },
   "source": [
    "1. Sort or filter predictions by confidence.\n",
    "2. For a range of thresholds (e.g., from 0.0 to 1.0 in steps of 0.01):\n",
    "\n",
    "    - Keep only predictions with confidence >= threshold.\n",
    "    - For each threshold, match predictions to ground truth (using IoU or another metric).\n",
    "    - Compute evaluation metrics (precision, recall, F1-score, etc.).\n",
    "\n",
    "3. Plot the metric vs. threshold.\n",
    "4. Choose the threshold that maximizes your chosen metric (often F1-score or mAP)."
   ]
  },
  {
   "cell_type": "code",
   "execution_count": 30,
   "id": "801fecf4-a506-4d91-874f-fec915ae6444",
   "metadata": {},
   "outputs": [
    {
     "data": {
      "text/html": [
       "<div>\n",
       "<style scoped>\n",
       "    .dataframe tbody tr th:only-of-type {\n",
       "        vertical-align: middle;\n",
       "    }\n",
       "\n",
       "    .dataframe tbody tr th {\n",
       "        vertical-align: top;\n",
       "    }\n",
       "\n",
       "    .dataframe thead th {\n",
       "        text-align: right;\n",
       "    }\n",
       "</style>\n",
       "<table border=\"1\" class=\"dataframe\">\n",
       "  <thead>\n",
       "    <tr style=\"text-align: right;\">\n",
       "      <th></th>\n",
       "      <th>image_id</th>\n",
       "      <th>id</th>\n",
       "      <th>xy_manual</th>\n",
       "      <th>prediction_id</th>\n",
       "      <th>confidence</th>\n",
       "      <th>polygon_id</th>\n",
       "      <th>xy_predicted</th>\n",
       "      <th>IoU</th>\n",
       "      <th>tp</th>\n",
       "      <th>fp</th>\n",
       "    </tr>\n",
       "  </thead>\n",
       "  <tbody>\n",
       "    <tr>\n",
       "      <th>0</th>\n",
       "      <td>624</td>\n",
       "      <td>175683</td>\n",
       "      <td>[(1354, 1377.48), (1330.52, 1389.22), (1330.52...</td>\n",
       "      <td>23746</td>\n",
       "      <td>0.932983</td>\n",
       "      <td>1943517</td>\n",
       "      <td>[(1328.6110534667969, 1405.1416015625), (1332....</td>\n",
       "      <td>0.891768</td>\n",
       "      <td>0</td>\n",
       "      <td>1</td>\n",
       "    </tr>\n",
       "    <tr>\n",
       "      <th>1</th>\n",
       "      <td>624</td>\n",
       "      <td>175664</td>\n",
       "      <td>[(223.058, 1804.029), (199.578, 1800.116), (19...</td>\n",
       "      <td>23746</td>\n",
       "      <td>0.626765</td>\n",
       "      <td>1943484</td>\n",
       "      <td>[(222.66780180089614, 1832.8301467895508), (22...</td>\n",
       "      <td>0.771366</td>\n",
       "      <td>1</td>\n",
       "      <td>0</td>\n",
       "    </tr>\n",
       "    <tr>\n",
       "      <th>2</th>\n",
       "      <td>624</td>\n",
       "      <td>175634</td>\n",
       "      <td>[(1549.665, 1005.717), (1545.751, 1013.543), (...</td>\n",
       "      <td>23746</td>\n",
       "      <td>0.863642</td>\n",
       "      <td>1943533</td>\n",
       "      <td>[(1545.576050652398, 1003.3963088989258), (153...</td>\n",
       "      <td>0.765831</td>\n",
       "      <td>0</td>\n",
       "      <td>1</td>\n",
       "    </tr>\n",
       "    <tr>\n",
       "      <th>3</th>\n",
       "      <td>624</td>\n",
       "      <td>175654</td>\n",
       "      <td>[(661.347, 1678.803), (637.867, 1667.064), (61...</td>\n",
       "      <td>23746</td>\n",
       "      <td>0.938495</td>\n",
       "      <td>1943522</td>\n",
       "      <td>[(643.3214721679688, 1633.8008189481848), (639...</td>\n",
       "      <td>0.505843</td>\n",
       "      <td>0</td>\n",
       "      <td>1</td>\n",
       "    </tr>\n",
       "    <tr>\n",
       "      <th>4</th>\n",
       "      <td>624</td>\n",
       "      <td>175633</td>\n",
       "      <td>[(1784.462, 1897.948), (1796.202, 1886.208), (...</td>\n",
       "      <td>23746</td>\n",
       "      <td>0.260624</td>\n",
       "      <td>1943544</td>\n",
       "      <td>[(1782.8247375488281, 1858.7501768224379), (17...</td>\n",
       "      <td>0.639641</td>\n",
       "      <td>1</td>\n",
       "      <td>0</td>\n",
       "    </tr>\n",
       "  </tbody>\n",
       "</table>\n",
       "</div>"
      ],
      "text/plain": [
       "   image_id      id                                          xy_manual  \\\n",
       "0       624  175683  [(1354, 1377.48), (1330.52, 1389.22), (1330.52...   \n",
       "1       624  175664  [(223.058, 1804.029), (199.578, 1800.116), (19...   \n",
       "2       624  175634  [(1549.665, 1005.717), (1545.751, 1013.543), (...   \n",
       "3       624  175654  [(661.347, 1678.803), (637.867, 1667.064), (61...   \n",
       "4       624  175633  [(1784.462, 1897.948), (1796.202, 1886.208), (...   \n",
       "\n",
       "   prediction_id  confidence  polygon_id  \\\n",
       "0          23746    0.932983     1943517   \n",
       "1          23746    0.626765     1943484   \n",
       "2          23746    0.863642     1943533   \n",
       "3          23746    0.938495     1943522   \n",
       "4          23746    0.260624     1943544   \n",
       "\n",
       "                                        xy_predicted       IoU  tp  fp  \n",
       "0  [(1328.6110534667969, 1405.1416015625), (1332....  0.891768   0   1  \n",
       "1  [(222.66780180089614, 1832.8301467895508), (22...  0.771366   1   0  \n",
       "2  [(1545.576050652398, 1003.3963088989258), (153...  0.765831   0   1  \n",
       "3  [(643.3214721679688, 1633.8008189481848), (639...  0.505843   0   1  \n",
       "4  [(1782.8247375488281, 1858.7501768224379), (17...  0.639641   1   0  "
      ]
     },
     "execution_count": 30,
     "metadata": {},
     "output_type": "execute_result"
    }
   ],
   "source": [
    "# Reinspect the dataset again\n",
    "df.head()"
   ]
  },
  {
   "cell_type": "code",
   "execution_count": 31,
   "id": "013110fe-4666-40f7-b5b1-d6c11c4b21a9",
   "metadata": {},
   "outputs": [
    {
     "data": {
      "text/html": [
       "<div>\n",
       "<style scoped>\n",
       "    .dataframe tbody tr th:only-of-type {\n",
       "        vertical-align: middle;\n",
       "    }\n",
       "\n",
       "    .dataframe tbody tr th {\n",
       "        vertical-align: top;\n",
       "    }\n",
       "\n",
       "    .dataframe thead th {\n",
       "        text-align: right;\n",
       "    }\n",
       "</style>\n",
       "<table border=\"1\" class=\"dataframe\">\n",
       "  <thead>\n",
       "    <tr style=\"text-align: right;\">\n",
       "      <th></th>\n",
       "      <th>image_id</th>\n",
       "      <th>id</th>\n",
       "      <th>xy_manual</th>\n",
       "      <th>prediction_id</th>\n",
       "      <th>confidence</th>\n",
       "      <th>polygon_id</th>\n",
       "      <th>xy_predicted</th>\n",
       "      <th>IoU</th>\n",
       "    </tr>\n",
       "  </thead>\n",
       "  <tbody>\n",
       "    <tr>\n",
       "      <th>0</th>\n",
       "      <td>624</td>\n",
       "      <td>175683</td>\n",
       "      <td>[(1354, 1377.48), (1330.52, 1389.22), (1330.52...</td>\n",
       "      <td>23746</td>\n",
       "      <td>0.932983</td>\n",
       "      <td>1943517</td>\n",
       "      <td>[(1328.6110534667969, 1405.1416015625), (1332....</td>\n",
       "      <td>0.891768</td>\n",
       "    </tr>\n",
       "    <tr>\n",
       "      <th>1</th>\n",
       "      <td>624</td>\n",
       "      <td>175664</td>\n",
       "      <td>[(223.058, 1804.029), (199.578, 1800.116), (19...</td>\n",
       "      <td>23746</td>\n",
       "      <td>0.626765</td>\n",
       "      <td>1943484</td>\n",
       "      <td>[(222.66780180089614, 1832.8301467895508), (22...</td>\n",
       "      <td>0.771366</td>\n",
       "    </tr>\n",
       "    <tr>\n",
       "      <th>2</th>\n",
       "      <td>624</td>\n",
       "      <td>175634</td>\n",
       "      <td>[(1549.665, 1005.717), (1545.751, 1013.543), (...</td>\n",
       "      <td>23746</td>\n",
       "      <td>0.863642</td>\n",
       "      <td>1943533</td>\n",
       "      <td>[(1545.576050652398, 1003.3963088989258), (153...</td>\n",
       "      <td>0.765831</td>\n",
       "    </tr>\n",
       "    <tr>\n",
       "      <th>3</th>\n",
       "      <td>624</td>\n",
       "      <td>175654</td>\n",
       "      <td>[(661.347, 1678.803), (637.867, 1667.064), (61...</td>\n",
       "      <td>23746</td>\n",
       "      <td>0.938495</td>\n",
       "      <td>1943522</td>\n",
       "      <td>[(643.3214721679688, 1633.8008189481848), (639...</td>\n",
       "      <td>0.505843</td>\n",
       "    </tr>\n",
       "    <tr>\n",
       "      <th>4</th>\n",
       "      <td>624</td>\n",
       "      <td>175633</td>\n",
       "      <td>[(1784.462, 1897.948), (1796.202, 1886.208), (...</td>\n",
       "      <td>23746</td>\n",
       "      <td>0.260624</td>\n",
       "      <td>1943544</td>\n",
       "      <td>[(1782.8247375488281, 1858.7501768224379), (17...</td>\n",
       "      <td>0.639641</td>\n",
       "    </tr>\n",
       "  </tbody>\n",
       "</table>\n",
       "</div>"
      ],
      "text/plain": [
       "   image_id      id                                          xy_manual  \\\n",
       "0       624  175683  [(1354, 1377.48), (1330.52, 1389.22), (1330.52...   \n",
       "1       624  175664  [(223.058, 1804.029), (199.578, 1800.116), (19...   \n",
       "2       624  175634  [(1549.665, 1005.717), (1545.751, 1013.543), (...   \n",
       "3       624  175654  [(661.347, 1678.803), (637.867, 1667.064), (61...   \n",
       "4       624  175633  [(1784.462, 1897.948), (1796.202, 1886.208), (...   \n",
       "\n",
       "   prediction_id  confidence  polygon_id  \\\n",
       "0          23746    0.932983     1943517   \n",
       "1          23746    0.626765     1943484   \n",
       "2          23746    0.863642     1943533   \n",
       "3          23746    0.938495     1943522   \n",
       "4          23746    0.260624     1943544   \n",
       "\n",
       "                                        xy_predicted       IoU  \n",
       "0  [(1328.6110534667969, 1405.1416015625), (1332....  0.891768  \n",
       "1  [(222.66780180089614, 1832.8301467895508), (22...  0.771366  \n",
       "2  [(1545.576050652398, 1003.3963088989258), (153...  0.765831  \n",
       "3  [(643.3214721679688, 1633.8008189481848), (639...  0.505843  \n",
       "4  [(1782.8247375488281, 1858.7501768224379), (17...  0.639641  "
      ]
     },
     "execution_count": 31,
     "metadata": {},
     "output_type": "execute_result"
    }
   ],
   "source": [
    "# Drop the tp and fp columns   \n",
    "df1 = df.drop([\"tp\", \"fp\"], axis=1)\n",
    "df1.head() # new dataframe for this task"
   ]
  },
  {
   "cell_type": "code",
   "execution_count": 81,
   "id": "5514540e-84e9-48ab-a23e-4b3ead4bcc08",
   "metadata": {},
   "outputs": [
    {
     "data": {
      "text/plain": [
       "array([0.01, 0.02, 0.03, 0.04, 0.05, 0.06, 0.07, 0.08, 0.09, 0.1 , 0.11,\n",
       "       0.12, 0.13, 0.14, 0.15, 0.16, 0.17, 0.18, 0.19, 0.2 , 0.21, 0.22,\n",
       "       0.23, 0.24, 0.25, 0.26, 0.27, 0.28, 0.29, 0.3 , 0.31, 0.32, 0.33,\n",
       "       0.34, 0.35, 0.36, 0.37, 0.38, 0.39, 0.4 , 0.41, 0.42, 0.43, 0.44,\n",
       "       0.45, 0.46, 0.47, 0.48, 0.49, 0.5 , 0.51, 0.52, 0.53, 0.54, 0.55,\n",
       "       0.56, 0.57, 0.58, 0.59, 0.6 , 0.61, 0.62, 0.63, 0.64, 0.65, 0.66,\n",
       "       0.67, 0.68, 0.69, 0.7 , 0.71, 0.72, 0.73, 0.74, 0.75, 0.76, 0.77,\n",
       "       0.78, 0.79, 0.8 , 0.81, 0.82, 0.83, 0.84, 0.85, 0.86, 0.87, 0.88,\n",
       "       0.89, 0.9 , 0.91, 0.92, 0.93, 0.94, 0.95, 0.96, 0.97, 0.98, 0.99,\n",
       "       1.  ])"
      ]
     },
     "execution_count": 81,
     "metadata": {},
     "output_type": "execute_result"
    }
   ],
   "source": [
    "# Create a list of thresholds \n",
    "thresholds = np.arange(0.01, 1.01, 0.01)\n",
    "thresholds"
   ]
  },
  {
   "cell_type": "code",
   "execution_count": 82,
   "id": "d5bec13e-3e17-47b4-964f-c4db73a83f78",
   "metadata": {},
   "outputs": [
    {
     "data": {
      "text/plain": [
       "94"
      ]
     },
     "execution_count": 82,
     "metadata": {},
     "output_type": "execute_result"
    }
   ],
   "source": [
    "# Calculate False Negatives \n",
    "# These are constants where the manual annotation have unmatched instances in the predictions(system generated annotations)\n",
    "FN = len(anno_df) - len(df)\n",
    "FN"
   ]
  },
  {
   "cell_type": "markdown",
   "id": "dfa196d4-9273-4278-8785-557bf2c2343f",
   "metadata": {},
   "source": [
    "**try first with a threshold of 0.01**"
   ]
  },
  {
   "cell_type": "code",
   "execution_count": 83,
   "id": "91024654-2d2e-4e43-bf71-0e191dd93be8",
   "metadata": {},
   "outputs": [
    {
     "name": "stdout",
     "output_type": "stream",
     "text": [
      "Precision: 0.940\n",
      "Recall: 0.973\n",
      "F1 Score: 0.956\n"
     ]
    }
   ],
   "source": [
    "# Calculate True Positives and False Positives according to thresholds\n",
    "IoU = df1[\"IoU\"]\n",
    "TP = 0 # initialize the true positive value \n",
    "FP = 0 # initialize the false negative value \n",
    "\n",
    "# Use one threshold value \n",
    "thd = 0.01\n",
    "\n",
    "for iou_value in IoU: \n",
    "    if iou_value >= thd: \n",
    "        TP+=1 # count true positives \n",
    "    elif iou_value < thd:\n",
    "        FP +=1 # count false positives \n",
    "\n",
    "\n",
    "# Calculate precision, recall and f1-score for this threshold value\n",
    "precision = TP / (TP + FP) if (TP + FP) > 0 else 0\n",
    "recall = TP / (TP + FN) if (TP + FN) > 0 else 0\n",
    "f1 = 2 * precision * recall / (precision + recall) if (precision + recall) > 0 else 0\n",
    "\n",
    "print(f\"Precision: {precision:.3f}\")\n",
    "print(f\"Recall: {recall:.3f}\")\n",
    "print(f\"F1 Score: {f1:.3f}\")"
   ]
  },
  {
   "cell_type": "markdown",
   "id": "4e8e844f-57b8-444c-96a2-cd0d1a3deba0",
   "metadata": {},
   "source": [
    "**Into a function then**"
   ]
  },
  {
   "cell_type": "code",
   "execution_count": 84,
   "id": "14fdcf9f-90e7-45e1-b5a4-685ac77548d4",
   "metadata": {},
   "outputs": [],
   "source": [
    "def calculate_metrics(iou_values, threshold_value, false_negative=FN): \n",
    "    # Calculate True Positives and False Positives according to thresholds\n",
    "    TP = 0 # initialize the true positive value \n",
    "    FP = 0 # initialize the false negative value \n",
    "    \n",
    "    for iou_value in IoU: \n",
    "        if iou_value >= threshold_value: \n",
    "            TP+=1 # count true positives \n",
    "        elif iou_value < threshold_value:\n",
    "            FP +=1 # count false positives \n",
    "    \n",
    "    \n",
    "    # Calculate precision, recall and f1-score for this threshold value\n",
    "    precision = TP / (TP + FP) if (TP + FP) > 0 else 0\n",
    "    recall = TP / (TP + false_negative) if (TP + false_negative) > 0 else 0\n",
    "    f1 = 2 * precision * recall / (precision + recall) if (precision + recall) > 0 else 0\n",
    "\n",
    "    return precision, recall, f1"
   ]
  },
  {
   "cell_type": "code",
   "execution_count": 85,
   "id": "b77cdecd-000f-4194-a401-f31815a9d12b",
   "metadata": {},
   "outputs": [
    {
     "data": {
      "text/plain": [
       "(0.15616207090602138, 0.8551617873651772, 0.2640970735189151)"
      ]
     },
     "execution_count": 85,
     "metadata": {},
     "output_type": "execute_result"
    }
   ],
   "source": [
    "# Test the function\n",
    "calculate_metrics(df1[\"IoU\"], 0.85)"
   ]
  },
  {
   "cell_type": "markdown",
   "id": "99975b3a-e821-46fb-ae58-c5cd714a9933",
   "metadata": {},
   "source": [
    "**Find optimum threshold** - The peak of the curve(f1-score vs thresholds) is the optimal threshold."
   ]
  },
  {
   "cell_type": "code",
   "execution_count": 86,
   "id": "e432afdf-5fc9-4362-99d7-091227602612",
   "metadata": {},
   "outputs": [
    {
     "data": {
      "image/png": "[encoded data removed]",
      "text/plain": [
       "<Figure size 640x480 with 1 Axes>"
      ]
     },
     "metadata": {},
     "output_type": "display_data"
    }
   ],
   "source": [
    "f1_score_values = [] # to stores f1-score values at each threshold\n",
    "\n",
    "for thd in thresholds: \n",
    "    metrics = calculate_metrics(df1[\"IoU\"], thd)\n",
    "    f1_score = metrics[2] # find the f1-score for the threshold\n",
    "    f1_score_values.append(f1_score)\n",
    "\n",
    "# Plot the curve \n",
    "plt.title(\"f1-scores against thresholds\")\n",
    "plt.plot(thresholds, f1_score_values)\n",
    "plt.xlabel(\"Threshold\")\n",
    "plt.ylabel(\"F1-Score\")\n",
    "plt.show()"
   ]
  },
  {
   "cell_type": "markdown",
   "id": "933ccbc0-a34d-4b41-b9d6-d944f0efdf53",
   "metadata": {},
   "source": [
    "*The peak of the curve can't be the optimum threshold. A threshold of 0.01 does not make sense*\n",
    "\n",
    "After asking chatGPT here it what is says; \n",
    "```\n",
    "F1 is very high (~0.95) at low thresholds (0.1–0.5).\n",
    "\n",
    "After ~0.7, F1 drops sharply → meaning that if you set the confidence threshold too high, recall collapses (the model misses many detections).\n",
    "\n",
    "Takeaway: Your model is good at detecting objects when it finds them, but needs better filtering of false positives and tighter localization.\n",
    "```"
   ]
  },
  {
   "cell_type": "markdown",
   "id": "1e9d7894-77a9-4630-a1ad-d3b2b188dc94",
   "metadata": {},
   "source": [
    "**Find optimum threshold using precision-recall curve**\n",
    "\n",
    "First, I will calculate the Minimum Average Precision\n",
    "\n",
    "Since we are working with one class(Mononukleäre Zelle) - Area under precision-recall curve is the mAP. "
   ]
  },
  {
   "cell_type": "markdown",
   "id": "bb89ff9a-548f-467f-ad8b-0ab55006cbe0",
   "metadata": {},
   "source": [
    "I will consider where precision $\\approx$ recall as the optimum threshold "
   ]
  },
  {
   "cell_type": "code",
   "execution_count": 87,
   "id": "cf8d5471-a9d6-4896-b0cd-9283ce704abc",
   "metadata": {},
   "outputs": [
    {
     "data": {
      "text/plain": [
       "np.float64(-0.07030110792522157)"
      ]
     },
     "execution_count": 87,
     "metadata": {},
     "output_type": "execute_result"
    }
   ],
   "source": [
    "precision_values = [] # to stores precision values at each threshold\n",
    "recall_values = [] # to stores recall values at each threshold\n",
    "\n",
    "for thd in thresholds: \n",
    "    metrics = calculate_metrics(df1[\"IoU\"], thd)\n",
    "    precision_values.append(metrics[0])\n",
    "    recall_values.append(metrics[1])\n",
    "\n",
    "# Calculate mAp\n",
    "np.trapezoid(precision_values, recall_values)"
   ]
  },
  {
   "cell_type": "code",
   "execution_count": 88,
   "id": "3f248f3c-ab5a-4547-a933-5d88eb495ba4",
   "metadata": {},
   "outputs": [
    {
     "data": {
      "image/png": "[encoded data removed]",
      "text/plain": [
       "<Figure size 640x480 with 1 Axes>"
      ]
     },
     "metadata": {},
     "output_type": "display_data"
    }
   ],
   "source": [
    "# Plot the precision recall curve \n",
    "plt.title(\"Precision-recall curve\")\n",
    "plt.plot(recall_values, precision_values)\n",
    "plt.ylabel(\"Precision\")\n",
    "plt.xlabel(\"Recall\")\n",
    "\n",
    "# for p, r, t in zip(precision_values, recall_values, thresholds):\n",
    "#     plt.text(p, r, f\"{t:.2f}\", fontsize=8)\n",
    "\n",
    "plt.show()"
   ]
  },
  {
   "cell_type": "markdown",
   "id": "484e95f3-3da2-458d-bfc6-8f789f4b3344",
   "metadata": {},
   "source": [
    "I used gemini model to analyze this is what it said\n",
    "```\n",
    "\"At very high thresholds there is near or zero recall and precision\": This is the most concerning part. A good model should have its highest precision at the highest confidence thresholds. This means that when the model is most \"certain\" about a detection, it should almost always be correct. Your model is making a lot of confident but incorrect predictions (high false positives) and failing to find many objects at all (low recall). This suggests a fundamental issue with how your model is scoring its predictions.\n",
    "\n",
    "\"At very low thresholds there is very high precision and recall value\": This is the reverse of the expected behavior. Normally, lowering the threshold to increase recall inevitably leads to a decrease in precision, as the model starts accepting more uncertain and potentially incorrect detections. For your model to have high precision and recall at low thresholds, it implies that the model's most useful and accurate predictions are all at the lowest confidence scores, which is highly abnormal.\n",
    "\n",
    "\"Precision drops steadily when precision start hitting 0.80 and above\": This is also the opposite of what's expected. A typical precision-recall curve shows precision decreasing as recall increases. Your description suggests precision is increasing as recall increases, which is a sign of a flawed model or an issue with the evaluation script.\n",
    "```\n",
    "\n",
    "and the recommendation it provided\n",
    "\n",
    "*This is not a typical sign of a \"good\" or \"bad\" model in the traditional sense, but a sign that something is fundamentally wrong with the model's output or the evaluation process.*\n",
    "\n",
    "*Flipped Confidence Scores: The most probable reason is that your model's confidence scores are inverted. The lowest scores are actually the most reliable, and the highest scores are the least reliable. This could be due to a bug in your code where the confidence scores are being negated or misinterpreted.*\n",
    "\n",
    "*Data Labeling or Evaluation Errors: A problem with your ground truth data or the evaluation script could also be the cause. It's possible that the \"correct\" detections are being penalized for some reason, and the \"incorrect\" detections are being rewarded.*\n",
    "\n",
    "**Will review this later while checking the confidence scores**"
   ]
  },
  {
   "cell_type": "code",
   "execution_count": null,
   "id": "0af7c2f6-1e7c-4833-b83e-81650a047148",
   "metadata": {},
   "outputs": [],
   "source": []
  },
  {
   "cell_type": "markdown",
   "id": "d6602fb4-a8b2-4725-831a-0d9b8833fa13",
   "metadata": {},
   "source": []
  },
  {
   "cell_type": "code",
   "execution_count": 89,
   "id": "79ea8fd3-803a-43c4-930e-5c5ead0a504e",
   "metadata": {},
   "outputs": [
    {
     "data": {
      "text/html": [
       "<div>\n",
       "<style scoped>\n",
       "    .dataframe tbody tr th:only-of-type {\n",
       "        vertical-align: middle;\n",
       "    }\n",
       "\n",
       "    .dataframe tbody tr th {\n",
       "        vertical-align: top;\n",
       "    }\n",
       "\n",
       "    .dataframe thead th {\n",
       "        text-align: right;\n",
       "    }\n",
       "</style>\n",
       "<table border=\"1\" class=\"dataframe\">\n",
       "  <thead>\n",
       "    <tr style=\"text-align: right;\">\n",
       "      <th></th>\n",
       "      <th>precision</th>\n",
       "      <th>recall</th>\n",
       "      <th>f1_score</th>\n",
       "      <th>precision-recall</th>\n",
       "    </tr>\n",
       "  </thead>\n",
       "  <tbody>\n",
       "    <tr>\n",
       "      <th>0</th>\n",
       "      <td>0.939505</td>\n",
       "      <td>0.972619</td>\n",
       "      <td>0.955775</td>\n",
       "      <td>0.033114</td>\n",
       "    </tr>\n",
       "    <tr>\n",
       "      <th>1</th>\n",
       "      <td>0.929657</td>\n",
       "      <td>0.972337</td>\n",
       "      <td>0.950518</td>\n",
       "      <td>0.042680</td>\n",
       "    </tr>\n",
       "    <tr>\n",
       "      <th>2</th>\n",
       "      <td>0.926280</td>\n",
       "      <td>0.972239</td>\n",
       "      <td>0.948703</td>\n",
       "      <td>0.045958</td>\n",
       "    </tr>\n",
       "    <tr>\n",
       "      <th>3</th>\n",
       "      <td>0.925718</td>\n",
       "      <td>0.972222</td>\n",
       "      <td>0.948400</td>\n",
       "      <td>0.046505</td>\n",
       "    </tr>\n",
       "    <tr>\n",
       "      <th>4</th>\n",
       "      <td>0.925155</td>\n",
       "      <td>0.972206</td>\n",
       "      <td>0.948097</td>\n",
       "      <td>0.047051</td>\n",
       "    </tr>\n",
       "  </tbody>\n",
       "</table>\n",
       "</div>"
      ],
      "text/plain": [
       "   precision    recall  f1_score  precision-recall\n",
       "0   0.939505  0.972619  0.955775          0.033114\n",
       "1   0.929657  0.972337  0.950518          0.042680\n",
       "2   0.926280  0.972239  0.948703          0.045958\n",
       "3   0.925718  0.972222  0.948400          0.046505\n",
       "4   0.925155  0.972206  0.948097          0.047051"
      ]
     },
     "execution_count": 89,
     "metadata": {},
     "output_type": "execute_result"
    }
   ],
   "source": [
    "metrics_df = pd.DataFrame({\n",
    "    \"precision\": precision_values,\n",
    "    \"recall\": recall_values,\n",
    "    \"f1_score\": f1_score_values\n",
    "})\n",
    "\n",
    "# Calculate difference between precision and recall values \n",
    "metrics_df[\"precision-recall\"] = abs(metrics_df[\"precision\"]-metrics_df[\"recall\"])\n",
    "\n",
    "# remove all rows where precision or recall == 0 \n",
    "metrics_df = metrics_df[(metrics_df[\"precision\"]!=0)|(metrics_df[\"recall\"]!=0)]\n",
    "# metrics_df[(metrics_df[\"precision\"]!=0)|(metrics_df[\"recall\"] != 0)]\n",
    "\n",
    "\n",
    "metrics_df.head()"
   ]
  },
  {
   "cell_type": "code",
   "execution_count": 90,
   "id": "51408d19-b21a-4246-b07e-3a8298f1fd97",
   "metadata": {},
   "outputs": [
    {
     "data": {
      "text/plain": [
       "0.6989997164591558"
      ]
     },
     "execution_count": 90,
     "metadata": {},
     "output_type": "execute_result"
    }
   ],
   "source": [
    "metrics_df[\"precision-recall\"].max()"
   ]
  },
  {
   "cell_type": "code",
   "execution_count": 91,
   "id": "f0c54006-002e-4e0f-8475-5569157276dd",
   "metadata": {},
   "outputs": [
    {
     "data": {
      "text/plain": [
       "0.02027058713187019"
      ]
     },
     "execution_count": 91,
     "metadata": {},
     "output_type": "execute_result"
    }
   ],
   "source": [
    "metrics_df[\"precision-recall\"].min()"
   ]
  },
  {
   "cell_type": "code",
   "execution_count": 92,
   "id": "e66970dd-c1b8-44fd-8600-d394ba780e4d",
   "metadata": {},
   "outputs": [
    {
     "data": {
      "text/html": [
       "<div>\n",
       "<style scoped>\n",
       "    .dataframe tbody tr th:only-of-type {\n",
       "        vertical-align: middle;\n",
       "    }\n",
       "\n",
       "    .dataframe tbody tr th {\n",
       "        vertical-align: top;\n",
       "    }\n",
       "\n",
       "    .dataframe thead th {\n",
       "        text-align: right;\n",
       "    }\n",
       "</style>\n",
       "<table border=\"1\" class=\"dataframe\">\n",
       "  <thead>\n",
       "    <tr style=\"text-align: right;\">\n",
       "      <th></th>\n",
       "      <th>precision</th>\n",
       "      <th>recall</th>\n",
       "      <th>f1_score</th>\n",
       "      <th>precision-recall</th>\n",
       "    </tr>\n",
       "  </thead>\n",
       "  <tbody>\n",
       "    <tr>\n",
       "      <th>92</th>\n",
       "      <td>0.000563</td>\n",
       "      <td>0.020833</td>\n",
       "      <td>0.001096</td>\n",
       "      <td>0.020271</td>\n",
       "    </tr>\n",
       "  </tbody>\n",
       "</table>\n",
       "</div>"
      ],
      "text/plain": [
       "    precision    recall  f1_score  precision-recall\n",
       "92   0.000563  0.020833  0.001096          0.020271"
      ]
     },
     "execution_count": 92,
     "metadata": {},
     "output_type": "execute_result"
    }
   ],
   "source": [
    "# find where precision is approximately equal to recall\n",
    "metrics_df[metrics_df[\"precision-recall\"]==metrics_df[\"precision-recall\"].min()]"
   ]
  },
  {
   "cell_type": "markdown",
   "id": "8efe01b9-1c8e-44b5-b956-804a81f7a956",
   "metadata": {},
   "source": [
    "**mean Average Precision**"
   ]
  },
  {
   "cell_type": "code",
   "execution_count": 93,
   "id": "9e5b4de1-190a-4221-b3da-48f84a16781b",
   "metadata": {},
   "outputs": [
    {
     "name": "stdout",
     "output_type": "stream",
     "text": [
      "PR AUC: 0.0703\n"
     ]
    }
   ],
   "source": [
    "from sklearn.metrics import auc\n",
    "\n",
    "# Compute AUC for Precision-Recall\n",
    "pr_auc = auc(recall_values, precision_values)\n",
    "print(f\"PR AUC: {pr_auc:.4f}\")"
   ]
  },
  {
   "cell_type": "markdown",
   "id": "68be7dfb-0d3d-402c-932a-38011d0b1203",
   "metadata": {},
   "source": [
    "*The value is close to zero therefore the model is very poor. It indicates that the model has an extremely low ability to balance precision and  at higher thresholds*"
   ]
  }
 ],
 "metadata": {
  "kernelspec": {
   "display_name": "Python 3 (ipykernel)",
   "language": "python",
   "name": "python3"
  },
  "language_info": {
   "codemirror_mode": {
    "name": "ipython",
    "version": 3
   },
   "file_extension": ".py",
   "mimetype": "text/x-python",
   "name": "python",
   "nbconvert_exporter": "python",
   "pygments_lexer": "ipython3",
   "version": "3.13.5"
  }
 },
 "nbformat": 4,
 "nbformat_minor": 5
}
