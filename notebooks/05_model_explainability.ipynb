{
 "cells": [
  {
   "cell_type": "markdown",
   "id": "f44020cc-81ff-4dcf-b532-62ca28dd8351",
   "metadata": {},
   "source": [
    "# SHAPE $ LIME - Model Explainability"
   ]
  },
  {
   "cell_type": "code",
   "execution_count": null,
   "id": "41563b29-d164-4db0-91be-81efc20fca9b",
   "metadata": {},
   "outputs": [],
   "source": []
  }
 ],
 "metadata": {
  "kernelspec": {
   "display_name": "Python 3 (ipykernel)",
   "language": "python",
   "name": "python3"
  },
  "language_info": {
   "codemirror_mode": {
    "name": "ipython",
    "version": 3
   },
   "file_extension": ".py",
   "mimetype": "text/x-python",
   "name": "python",
   "nbconvert_exporter": "python",
   "pygments_lexer": "ipython3",
   "version": "3.13.5"
  }
 },
 "nbformat": 4,
 "nbformat_minor": 5
}
